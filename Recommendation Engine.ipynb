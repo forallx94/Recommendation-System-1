{
 "cells": [
  {
   "cell_type": "markdown",
   "source": [
    "# Tensorrec Python 모듈 추천 시스템 소매 고객 데이터를 이용한\r\n",
    "\r\n",
    "by Taufik Azri"
   ],
   "metadata": {}
  },
  {
   "cell_type": "markdown",
   "source": [
    "예제 데이터 : https://www.kaggle.com/darpan25bajaj/retail-case-study-data#prod_cat_info.csv\n",
    "\n",
    "Tensorrec 모듈 정보 : https://github.com/jfkirk/tensorrec "
   ],
   "metadata": {}
  },
  {
   "cell_type": "code",
   "execution_count": 55,
   "source": [
    "# Data Scientist가 사용하는 표준 패키지 가져오기\r\n",
    "import numpy as np\r\n",
    "import pandas as pd\r\n",
    "import pickle\r\n",
    "\r\n",
    "import matplotlib.pyplot as plt\r\n",
    "import seaborn as sns\r\n",
    "sns.set_style('whitegrid')\r\n",
    "%matplotlib inline\r\n",
    "\r\n",
    "from sklearn.cluster import KMeans\r\n",
    "from sklearn import preprocessing\r\n",
    "from collections import Counter\r\n",
    "import scipy.sparse as sparse\r\n",
    "\r\n",
    "# os 는 시스템 디렉토리를 탐색하는 편리한 모듈\r\n",
    "import os\r\n",
    "\r\n",
    "# 텐서플로우를 백엔드로 사용하는 케라스를 import\r\n",
    "import keras as ks\r\n",
    "\r\n",
    "# Tensorrec 추천 패키지 import\r\n",
    "import tensorrec\r\n",
    "from tensorrec import TensorRec\r\n",
    "from tensorrec.eval import *\r\n",
    "from tensorrec.util import append_to_string_at_point\r\n",
    "\r\n",
    "### 다른 표현 그래프(representation graph) 또한 대안으로 사용 가능. 모델을 조정하기 위해 자유롭게 시도해 보세요.\r\n",
    "from tensorrec.representation_graphs import (AbstractKerasRepresentationGraph, \r\n",
    "#                                              ReLURepresentationGraph, \r\n",
    "                                             NormalizedLinearRepresentationGraph, \r\n",
    "#                                              LinearRepresentationGraph\r\n",
    "                                            )\r\n",
    "\r\n",
    "from tensorrec.loss_graphs import (WMRBLossGraph, \r\n",
    "#                                    BalancedWMRBLossGraph,\r\n",
    "#                                    RMSELossGraph, \r\n",
    "#                                    RMSEDenseLossGraph, \r\n",
    "#                                    SeparationDenseLossGraph\r\n",
    "                                  ) \r\n",
    "\r\n",
    "from tensorrec.eval import fit_and_eval, eval_random_ranks_on_dataset\r\n",
    "from tensorrec.util import append_to_string_at_point\r\n",
    "\r\n",
    "### tensorrec.representation_graphs.AbstractKerasRepresentationGraph를 상속하여 keras 표현 그래프를 구성.\r\n",
    "### https://www.tensorflow.org/tensorboard/graphs\r\n",
    "### 도움되는 article을 제작해준 James Kirk 에게 감사를 전한다. : \r\n",
    "### https://medium.com/hackernoon/deep-learning-for-recommendation-with-keras-and-tensorrec-2b8935c795d0\r\n",
    "\r\n",
    "class DeepRepresentationGraph(AbstractKerasRepresentationGraph):\r\n",
    "    # 이 method는 사용자/아이템 특징을 사용자/아이템에 연결하는 정렬된 리스트의 keras 레이어를 반환.\r\n",
    "    # representation. TensorRec이 훈련이 시작되면 해당 레이어를 이용하여 훈련 진행.\r\n",
    "    def create_layers(self, n_features, n_components):\r\n",
    "        return [\r\n",
    "            ks.layers.Dense(n_components * 16, activation='relu'), # rectified linear unit(ReLU)\r\n",
    "            ks.layers.Dense(n_components * 8, activation='relu'), # 다른 활성화 함수 시도 가능 \r\n",
    "            ks.layers.Dense(n_components * 2, activation='relu'), # 대부분의 활성화 함수 변경은 이미지 인식과 같은 ML 경우에서 도움.\r\n",
    "            ks.layers.Dense(n_components, activation='tanh'),\r\n",
    "        ]"
   ],
   "outputs": [],
   "metadata": {
    "ExecuteTime": {
     "end_time": "2020-04-02T16:22:36.054847Z",
     "start_time": "2020-04-02T16:22:26.521341Z"
    }
   }
  },
  {
   "cell_type": "markdown",
   "source": [
    "Import the data manually from Kaggle and save it somewhere in the directory\n",
    "\n",
    "The dowloaded data contains three separate csv files: Customer, prod_cat_info, and Transaction. We will refer the Transaction.csv as the master data, which we will append the relevant customer and product information from Customer.csv before we insert them into the engine."
   ],
   "metadata": {}
  },
  {
   "cell_type": "code",
   "execution_count": 56,
   "source": [
    "# ### os.listdir을 사용하여 디렉토리 내의 파일 탐색\r\n",
    "# os.listdir('../data')"
   ],
   "outputs": [],
   "metadata": {
    "ExecuteTime": {
     "end_time": "2020-04-02T16:22:36.064733Z",
     "start_time": "2020-04-02T16:22:36.056830Z"
    }
   }
  },
  {
   "cell_type": "markdown",
   "source": [
    "# Data Preparation"
   ],
   "metadata": {}
  },
  {
   "cell_type": "code",
   "execution_count": 57,
   "source": [
    "#### 마스터 데이터(상호 작용)\r\n",
    "#### 상호 작용(transaction) 마스터 데이터를 불러옴\r\n",
    "masterdf = pd.read_csv('./data/Transactions.csv')\r\n",
    "masterdf.head()"
   ],
   "outputs": [
    {
     "output_type": "execute_result",
     "data": {
      "text/plain": [
       "   transaction_id  cust_id   tran_date  prod_subcat_code  prod_cat_code  Qty  \\\n",
       "0     80712190438   270351  28-02-2014                 1              1   -5   \n",
       "1     29258453508   270384  27-02-2014                 5              3   -5   \n",
       "2     51750724947   273420  24-02-2014                 6              5   -2   \n",
       "3     93274880719   271509  24-02-2014                11              6   -3   \n",
       "4     51750724947   273420  23-02-2014                 6              5   -2   \n",
       "\n",
       "   Rate      Tax  total_amt Store_type  \n",
       "0  -772  405.300  -4265.300     e-Shop  \n",
       "1 -1497  785.925  -8270.925     e-Shop  \n",
       "2  -791  166.110  -1748.110   TeleShop  \n",
       "3 -1363  429.345  -4518.345     e-Shop  \n",
       "4  -791  166.110  -1748.110   TeleShop  "
      ],
      "text/html": [
       "<div>\n",
       "<style scoped>\n",
       "    .dataframe tbody tr th:only-of-type {\n",
       "        vertical-align: middle;\n",
       "    }\n",
       "\n",
       "    .dataframe tbody tr th {\n",
       "        vertical-align: top;\n",
       "    }\n",
       "\n",
       "    .dataframe thead th {\n",
       "        text-align: right;\n",
       "    }\n",
       "</style>\n",
       "<table border=\"1\" class=\"dataframe\">\n",
       "  <thead>\n",
       "    <tr style=\"text-align: right;\">\n",
       "      <th></th>\n",
       "      <th>transaction_id</th>\n",
       "      <th>cust_id</th>\n",
       "      <th>tran_date</th>\n",
       "      <th>prod_subcat_code</th>\n",
       "      <th>prod_cat_code</th>\n",
       "      <th>Qty</th>\n",
       "      <th>Rate</th>\n",
       "      <th>Tax</th>\n",
       "      <th>total_amt</th>\n",
       "      <th>Store_type</th>\n",
       "    </tr>\n",
       "  </thead>\n",
       "  <tbody>\n",
       "    <tr>\n",
       "      <th>0</th>\n",
       "      <td>80712190438</td>\n",
       "      <td>270351</td>\n",
       "      <td>28-02-2014</td>\n",
       "      <td>1</td>\n",
       "      <td>1</td>\n",
       "      <td>-5</td>\n",
       "      <td>-772</td>\n",
       "      <td>405.300</td>\n",
       "      <td>-4265.300</td>\n",
       "      <td>e-Shop</td>\n",
       "    </tr>\n",
       "    <tr>\n",
       "      <th>1</th>\n",
       "      <td>29258453508</td>\n",
       "      <td>270384</td>\n",
       "      <td>27-02-2014</td>\n",
       "      <td>5</td>\n",
       "      <td>3</td>\n",
       "      <td>-5</td>\n",
       "      <td>-1497</td>\n",
       "      <td>785.925</td>\n",
       "      <td>-8270.925</td>\n",
       "      <td>e-Shop</td>\n",
       "    </tr>\n",
       "    <tr>\n",
       "      <th>2</th>\n",
       "      <td>51750724947</td>\n",
       "      <td>273420</td>\n",
       "      <td>24-02-2014</td>\n",
       "      <td>6</td>\n",
       "      <td>5</td>\n",
       "      <td>-2</td>\n",
       "      <td>-791</td>\n",
       "      <td>166.110</td>\n",
       "      <td>-1748.110</td>\n",
       "      <td>TeleShop</td>\n",
       "    </tr>\n",
       "    <tr>\n",
       "      <th>3</th>\n",
       "      <td>93274880719</td>\n",
       "      <td>271509</td>\n",
       "      <td>24-02-2014</td>\n",
       "      <td>11</td>\n",
       "      <td>6</td>\n",
       "      <td>-3</td>\n",
       "      <td>-1363</td>\n",
       "      <td>429.345</td>\n",
       "      <td>-4518.345</td>\n",
       "      <td>e-Shop</td>\n",
       "    </tr>\n",
       "    <tr>\n",
       "      <th>4</th>\n",
       "      <td>51750724947</td>\n",
       "      <td>273420</td>\n",
       "      <td>23-02-2014</td>\n",
       "      <td>6</td>\n",
       "      <td>5</td>\n",
       "      <td>-2</td>\n",
       "      <td>-791</td>\n",
       "      <td>166.110</td>\n",
       "      <td>-1748.110</td>\n",
       "      <td>TeleShop</td>\n",
       "    </tr>\n",
       "  </tbody>\n",
       "</table>\n",
       "</div>"
      ]
     },
     "metadata": {},
     "execution_count": 57
    }
   ],
   "metadata": {
    "ExecuteTime": {
     "end_time": "2020-04-02T16:22:36.157023Z",
     "start_time": "2020-04-02T16:22:36.069730Z"
    },
    "scrolled": true
   }
  },
  {
   "cell_type": "code",
   "execution_count": 58,
   "source": [
    "### 데이터 정리 및 표준화를 위해 데이터 열 명칭 변경\r\n",
    "### 표준화는 병합의 용의성을 위해 열 명칭을 정렬\r\n",
    "masterdf.columns = ['Transaction ID', 'Customer ID', 'Transaction Date', 'Prod Subcat Code',\r\n",
    "       'Prod Cat Code', 'Qty', 'Rate', 'Tax', 'Total Amt', 'Store Type']"
   ],
   "outputs": [],
   "metadata": {
    "ExecuteTime": {
     "end_time": "2020-04-02T16:23:07.062546Z",
     "start_time": "2020-04-02T16:23:07.055108Z"
    }
   }
  },
  {
   "cell_type": "code",
   "execution_count": 59,
   "source": [
    "###  상점 코드 타입을 숫자형으로 변경하여 새 열에 저장\r\n",
    "masterdf['Store Type Code'] = pd.factorize(masterdf['Store Type'])[0]\r\n",
    "masterdf.head(5)"
   ],
   "outputs": [
    {
     "output_type": "execute_result",
     "data": {
      "text/plain": [
       "   Transaction ID  Customer ID Transaction Date  Prod Subcat Code  \\\n",
       "0     80712190438       270351       28-02-2014                 1   \n",
       "1     29258453508       270384       27-02-2014                 5   \n",
       "2     51750724947       273420       24-02-2014                 6   \n",
       "3     93274880719       271509       24-02-2014                11   \n",
       "4     51750724947       273420       23-02-2014                 6   \n",
       "\n",
       "   Prod Cat Code  Qty  Rate      Tax  Total Amt Store Type  Store Type Code  \n",
       "0              1   -5  -772  405.300  -4265.300     e-Shop                0  \n",
       "1              3   -5 -1497  785.925  -8270.925     e-Shop                0  \n",
       "2              5   -2  -791  166.110  -1748.110   TeleShop                1  \n",
       "3              6   -3 -1363  429.345  -4518.345     e-Shop                0  \n",
       "4              5   -2  -791  166.110  -1748.110   TeleShop                1  "
      ],
      "text/html": [
       "<div>\n",
       "<style scoped>\n",
       "    .dataframe tbody tr th:only-of-type {\n",
       "        vertical-align: middle;\n",
       "    }\n",
       "\n",
       "    .dataframe tbody tr th {\n",
       "        vertical-align: top;\n",
       "    }\n",
       "\n",
       "    .dataframe thead th {\n",
       "        text-align: right;\n",
       "    }\n",
       "</style>\n",
       "<table border=\"1\" class=\"dataframe\">\n",
       "  <thead>\n",
       "    <tr style=\"text-align: right;\">\n",
       "      <th></th>\n",
       "      <th>Transaction ID</th>\n",
       "      <th>Customer ID</th>\n",
       "      <th>Transaction Date</th>\n",
       "      <th>Prod Subcat Code</th>\n",
       "      <th>Prod Cat Code</th>\n",
       "      <th>Qty</th>\n",
       "      <th>Rate</th>\n",
       "      <th>Tax</th>\n",
       "      <th>Total Amt</th>\n",
       "      <th>Store Type</th>\n",
       "      <th>Store Type Code</th>\n",
       "    </tr>\n",
       "  </thead>\n",
       "  <tbody>\n",
       "    <tr>\n",
       "      <th>0</th>\n",
       "      <td>80712190438</td>\n",
       "      <td>270351</td>\n",
       "      <td>28-02-2014</td>\n",
       "      <td>1</td>\n",
       "      <td>1</td>\n",
       "      <td>-5</td>\n",
       "      <td>-772</td>\n",
       "      <td>405.300</td>\n",
       "      <td>-4265.300</td>\n",
       "      <td>e-Shop</td>\n",
       "      <td>0</td>\n",
       "    </tr>\n",
       "    <tr>\n",
       "      <th>1</th>\n",
       "      <td>29258453508</td>\n",
       "      <td>270384</td>\n",
       "      <td>27-02-2014</td>\n",
       "      <td>5</td>\n",
       "      <td>3</td>\n",
       "      <td>-5</td>\n",
       "      <td>-1497</td>\n",
       "      <td>785.925</td>\n",
       "      <td>-8270.925</td>\n",
       "      <td>e-Shop</td>\n",
       "      <td>0</td>\n",
       "    </tr>\n",
       "    <tr>\n",
       "      <th>2</th>\n",
       "      <td>51750724947</td>\n",
       "      <td>273420</td>\n",
       "      <td>24-02-2014</td>\n",
       "      <td>6</td>\n",
       "      <td>5</td>\n",
       "      <td>-2</td>\n",
       "      <td>-791</td>\n",
       "      <td>166.110</td>\n",
       "      <td>-1748.110</td>\n",
       "      <td>TeleShop</td>\n",
       "      <td>1</td>\n",
       "    </tr>\n",
       "    <tr>\n",
       "      <th>3</th>\n",
       "      <td>93274880719</td>\n",
       "      <td>271509</td>\n",
       "      <td>24-02-2014</td>\n",
       "      <td>11</td>\n",
       "      <td>6</td>\n",
       "      <td>-3</td>\n",
       "      <td>-1363</td>\n",
       "      <td>429.345</td>\n",
       "      <td>-4518.345</td>\n",
       "      <td>e-Shop</td>\n",
       "      <td>0</td>\n",
       "    </tr>\n",
       "    <tr>\n",
       "      <th>4</th>\n",
       "      <td>51750724947</td>\n",
       "      <td>273420</td>\n",
       "      <td>23-02-2014</td>\n",
       "      <td>6</td>\n",
       "      <td>5</td>\n",
       "      <td>-2</td>\n",
       "      <td>-791</td>\n",
       "      <td>166.110</td>\n",
       "      <td>-1748.110</td>\n",
       "      <td>TeleShop</td>\n",
       "      <td>1</td>\n",
       "    </tr>\n",
       "  </tbody>\n",
       "</table>\n",
       "</div>"
      ]
     },
     "metadata": {},
     "execution_count": 59
    }
   ],
   "metadata": {
    "ExecuteTime": {
     "end_time": "2020-04-02T16:23:07.378996Z",
     "start_time": "2020-04-02T16:23:07.342788Z"
    }
   }
  },
  {
   "cell_type": "code",
   "execution_count": 60,
   "source": [
    "masterdf"
   ],
   "outputs": [
    {
     "output_type": "execute_result",
     "data": {
      "text/plain": [
       "       Transaction ID  Customer ID Transaction Date  Prod Subcat Code  \\\n",
       "0         80712190438       270351       28-02-2014                 1   \n",
       "1         29258453508       270384       27-02-2014                 5   \n",
       "2         51750724947       273420       24-02-2014                 6   \n",
       "3         93274880719       271509       24-02-2014                11   \n",
       "4         51750724947       273420       23-02-2014                 6   \n",
       "...               ...          ...              ...               ...   \n",
       "23048     94340757522       274550       25-01-2011                12   \n",
       "23049     89780862956       270022       25-01-2011                 4   \n",
       "23050     85115299378       271020       25-01-2011                 2   \n",
       "23051     72870271171       270911       25-01-2011                11   \n",
       "23052     77960931771       271961       25-01-2011                11   \n",
       "\n",
       "       Prod Cat Code  Qty  Rate      Tax  Total Amt Store Type  \\\n",
       "0                  1   -5  -772  405.300  -4265.300     e-Shop   \n",
       "1                  3   -5 -1497  785.925  -8270.925     e-Shop   \n",
       "2                  5   -2  -791  166.110  -1748.110   TeleShop   \n",
       "3                  6   -3 -1363  429.345  -4518.345     e-Shop   \n",
       "4                  5   -2  -791  166.110  -1748.110   TeleShop   \n",
       "...              ...  ...   ...      ...        ...        ...   \n",
       "23048              5    1  1264  132.720   1396.720     e-Shop   \n",
       "23049              1    1   677   71.085    748.085     e-Shop   \n",
       "23050              6    4  1052  441.840   4649.840        MBR   \n",
       "23051              5    3  1142  359.730   3785.730   TeleShop   \n",
       "23052              5    1   447   46.935    493.935   TeleShop   \n",
       "\n",
       "       Store Type Code  \n",
       "0                    0  \n",
       "1                    0  \n",
       "2                    1  \n",
       "3                    0  \n",
       "4                    1  \n",
       "...                ...  \n",
       "23048                0  \n",
       "23049                0  \n",
       "23050                2  \n",
       "23051                1  \n",
       "23052                1  \n",
       "\n",
       "[23053 rows x 11 columns]"
      ],
      "text/html": [
       "<div>\n",
       "<style scoped>\n",
       "    .dataframe tbody tr th:only-of-type {\n",
       "        vertical-align: middle;\n",
       "    }\n",
       "\n",
       "    .dataframe tbody tr th {\n",
       "        vertical-align: top;\n",
       "    }\n",
       "\n",
       "    .dataframe thead th {\n",
       "        text-align: right;\n",
       "    }\n",
       "</style>\n",
       "<table border=\"1\" class=\"dataframe\">\n",
       "  <thead>\n",
       "    <tr style=\"text-align: right;\">\n",
       "      <th></th>\n",
       "      <th>Transaction ID</th>\n",
       "      <th>Customer ID</th>\n",
       "      <th>Transaction Date</th>\n",
       "      <th>Prod Subcat Code</th>\n",
       "      <th>Prod Cat Code</th>\n",
       "      <th>Qty</th>\n",
       "      <th>Rate</th>\n",
       "      <th>Tax</th>\n",
       "      <th>Total Amt</th>\n",
       "      <th>Store Type</th>\n",
       "      <th>Store Type Code</th>\n",
       "    </tr>\n",
       "  </thead>\n",
       "  <tbody>\n",
       "    <tr>\n",
       "      <th>0</th>\n",
       "      <td>80712190438</td>\n",
       "      <td>270351</td>\n",
       "      <td>28-02-2014</td>\n",
       "      <td>1</td>\n",
       "      <td>1</td>\n",
       "      <td>-5</td>\n",
       "      <td>-772</td>\n",
       "      <td>405.300</td>\n",
       "      <td>-4265.300</td>\n",
       "      <td>e-Shop</td>\n",
       "      <td>0</td>\n",
       "    </tr>\n",
       "    <tr>\n",
       "      <th>1</th>\n",
       "      <td>29258453508</td>\n",
       "      <td>270384</td>\n",
       "      <td>27-02-2014</td>\n",
       "      <td>5</td>\n",
       "      <td>3</td>\n",
       "      <td>-5</td>\n",
       "      <td>-1497</td>\n",
       "      <td>785.925</td>\n",
       "      <td>-8270.925</td>\n",
       "      <td>e-Shop</td>\n",
       "      <td>0</td>\n",
       "    </tr>\n",
       "    <tr>\n",
       "      <th>2</th>\n",
       "      <td>51750724947</td>\n",
       "      <td>273420</td>\n",
       "      <td>24-02-2014</td>\n",
       "      <td>6</td>\n",
       "      <td>5</td>\n",
       "      <td>-2</td>\n",
       "      <td>-791</td>\n",
       "      <td>166.110</td>\n",
       "      <td>-1748.110</td>\n",
       "      <td>TeleShop</td>\n",
       "      <td>1</td>\n",
       "    </tr>\n",
       "    <tr>\n",
       "      <th>3</th>\n",
       "      <td>93274880719</td>\n",
       "      <td>271509</td>\n",
       "      <td>24-02-2014</td>\n",
       "      <td>11</td>\n",
       "      <td>6</td>\n",
       "      <td>-3</td>\n",
       "      <td>-1363</td>\n",
       "      <td>429.345</td>\n",
       "      <td>-4518.345</td>\n",
       "      <td>e-Shop</td>\n",
       "      <td>0</td>\n",
       "    </tr>\n",
       "    <tr>\n",
       "      <th>4</th>\n",
       "      <td>51750724947</td>\n",
       "      <td>273420</td>\n",
       "      <td>23-02-2014</td>\n",
       "      <td>6</td>\n",
       "      <td>5</td>\n",
       "      <td>-2</td>\n",
       "      <td>-791</td>\n",
       "      <td>166.110</td>\n",
       "      <td>-1748.110</td>\n",
       "      <td>TeleShop</td>\n",
       "      <td>1</td>\n",
       "    </tr>\n",
       "    <tr>\n",
       "      <th>...</th>\n",
       "      <td>...</td>\n",
       "      <td>...</td>\n",
       "      <td>...</td>\n",
       "      <td>...</td>\n",
       "      <td>...</td>\n",
       "      <td>...</td>\n",
       "      <td>...</td>\n",
       "      <td>...</td>\n",
       "      <td>...</td>\n",
       "      <td>...</td>\n",
       "      <td>...</td>\n",
       "    </tr>\n",
       "    <tr>\n",
       "      <th>23048</th>\n",
       "      <td>94340757522</td>\n",
       "      <td>274550</td>\n",
       "      <td>25-01-2011</td>\n",
       "      <td>12</td>\n",
       "      <td>5</td>\n",
       "      <td>1</td>\n",
       "      <td>1264</td>\n",
       "      <td>132.720</td>\n",
       "      <td>1396.720</td>\n",
       "      <td>e-Shop</td>\n",
       "      <td>0</td>\n",
       "    </tr>\n",
       "    <tr>\n",
       "      <th>23049</th>\n",
       "      <td>89780862956</td>\n",
       "      <td>270022</td>\n",
       "      <td>25-01-2011</td>\n",
       "      <td>4</td>\n",
       "      <td>1</td>\n",
       "      <td>1</td>\n",
       "      <td>677</td>\n",
       "      <td>71.085</td>\n",
       "      <td>748.085</td>\n",
       "      <td>e-Shop</td>\n",
       "      <td>0</td>\n",
       "    </tr>\n",
       "    <tr>\n",
       "      <th>23050</th>\n",
       "      <td>85115299378</td>\n",
       "      <td>271020</td>\n",
       "      <td>25-01-2011</td>\n",
       "      <td>2</td>\n",
       "      <td>6</td>\n",
       "      <td>4</td>\n",
       "      <td>1052</td>\n",
       "      <td>441.840</td>\n",
       "      <td>4649.840</td>\n",
       "      <td>MBR</td>\n",
       "      <td>2</td>\n",
       "    </tr>\n",
       "    <tr>\n",
       "      <th>23051</th>\n",
       "      <td>72870271171</td>\n",
       "      <td>270911</td>\n",
       "      <td>25-01-2011</td>\n",
       "      <td>11</td>\n",
       "      <td>5</td>\n",
       "      <td>3</td>\n",
       "      <td>1142</td>\n",
       "      <td>359.730</td>\n",
       "      <td>3785.730</td>\n",
       "      <td>TeleShop</td>\n",
       "      <td>1</td>\n",
       "    </tr>\n",
       "    <tr>\n",
       "      <th>23052</th>\n",
       "      <td>77960931771</td>\n",
       "      <td>271961</td>\n",
       "      <td>25-01-2011</td>\n",
       "      <td>11</td>\n",
       "      <td>5</td>\n",
       "      <td>1</td>\n",
       "      <td>447</td>\n",
       "      <td>46.935</td>\n",
       "      <td>493.935</td>\n",
       "      <td>TeleShop</td>\n",
       "      <td>1</td>\n",
       "    </tr>\n",
       "  </tbody>\n",
       "</table>\n",
       "<p>23053 rows × 11 columns</p>\n",
       "</div>"
      ]
     },
     "metadata": {},
     "execution_count": 60
    }
   ],
   "metadata": {}
  },
  {
   "cell_type": "code",
   "execution_count": 61,
   "source": [
    "### 분류가 유일한지 확인\r\n",
    "masterdf[['Store Type', 'Store Type Code']].drop_duplicates()"
   ],
   "outputs": [
    {
     "output_type": "execute_result",
     "data": {
      "text/plain": [
       "        Store Type  Store Type Code\n",
       "0           e-Shop                0\n",
       "2         TeleShop                1\n",
       "8              MBR                2\n",
       "17  Flagship store                3"
      ],
      "text/html": [
       "<div>\n",
       "<style scoped>\n",
       "    .dataframe tbody tr th:only-of-type {\n",
       "        vertical-align: middle;\n",
       "    }\n",
       "\n",
       "    .dataframe tbody tr th {\n",
       "        vertical-align: top;\n",
       "    }\n",
       "\n",
       "    .dataframe thead th {\n",
       "        text-align: right;\n",
       "    }\n",
       "</style>\n",
       "<table border=\"1\" class=\"dataframe\">\n",
       "  <thead>\n",
       "    <tr style=\"text-align: right;\">\n",
       "      <th></th>\n",
       "      <th>Store Type</th>\n",
       "      <th>Store Type Code</th>\n",
       "    </tr>\n",
       "  </thead>\n",
       "  <tbody>\n",
       "    <tr>\n",
       "      <th>0</th>\n",
       "      <td>e-Shop</td>\n",
       "      <td>0</td>\n",
       "    </tr>\n",
       "    <tr>\n",
       "      <th>2</th>\n",
       "      <td>TeleShop</td>\n",
       "      <td>1</td>\n",
       "    </tr>\n",
       "    <tr>\n",
       "      <th>8</th>\n",
       "      <td>MBR</td>\n",
       "      <td>2</td>\n",
       "    </tr>\n",
       "    <tr>\n",
       "      <th>17</th>\n",
       "      <td>Flagship store</td>\n",
       "      <td>3</td>\n",
       "    </tr>\n",
       "  </tbody>\n",
       "</table>\n",
       "</div>"
      ]
     },
     "metadata": {},
     "execution_count": 61
    }
   ],
   "metadata": {
    "ExecuteTime": {
     "end_time": "2020-04-02T16:23:08.562959Z",
     "start_time": "2020-04-02T16:23:08.545607Z"
    }
   }
  },
  {
   "cell_type": "code",
   "execution_count": 8,
   "source": [
    "#### 소비자 데이터(소비자 특성)\r\n",
    "custdf = pd.read_csv('./data/Customer.csv')\r\n",
    "custdf.columns = ['Customer ID', 'DOB', 'Gender', 'City Code']\r\n",
    "custdf.head(2)"
   ],
   "outputs": [
    {
     "output_type": "execute_result",
     "data": {
      "text/plain": [
       "   Customer ID         DOB Gender  City Code\n",
       "0       268408  02-01-1970      M        4.0\n",
       "1       269696  07-01-1970      F        8.0"
      ],
      "text/html": [
       "<div>\n",
       "<style scoped>\n",
       "    .dataframe tbody tr th:only-of-type {\n",
       "        vertical-align: middle;\n",
       "    }\n",
       "\n",
       "    .dataframe tbody tr th {\n",
       "        vertical-align: top;\n",
       "    }\n",
       "\n",
       "    .dataframe thead th {\n",
       "        text-align: right;\n",
       "    }\n",
       "</style>\n",
       "<table border=\"1\" class=\"dataframe\">\n",
       "  <thead>\n",
       "    <tr style=\"text-align: right;\">\n",
       "      <th></th>\n",
       "      <th>Customer ID</th>\n",
       "      <th>DOB</th>\n",
       "      <th>Gender</th>\n",
       "      <th>City Code</th>\n",
       "    </tr>\n",
       "  </thead>\n",
       "  <tbody>\n",
       "    <tr>\n",
       "      <th>0</th>\n",
       "      <td>268408</td>\n",
       "      <td>02-01-1970</td>\n",
       "      <td>M</td>\n",
       "      <td>4.0</td>\n",
       "    </tr>\n",
       "    <tr>\n",
       "      <th>1</th>\n",
       "      <td>269696</td>\n",
       "      <td>07-01-1970</td>\n",
       "      <td>F</td>\n",
       "      <td>8.0</td>\n",
       "    </tr>\n",
       "  </tbody>\n",
       "</table>\n",
       "</div>"
      ]
     },
     "metadata": {},
     "execution_count": 8
    }
   ],
   "metadata": {
    "ExecuteTime": {
     "end_time": "2020-04-02T16:23:09.062316Z",
     "start_time": "2020-04-02T16:23:09.000812Z"
    }
   }
  },
  {
   "cell_type": "code",
   "execution_count": 9,
   "source": [
    "# City Code 속 null 개수\r\n",
    "len(custdf[custdf['City Code'].isnull()])"
   ],
   "outputs": [
    {
     "output_type": "execute_result",
     "data": {
      "text/plain": [
       "2"
      ]
     },
     "metadata": {},
     "execution_count": 9
    }
   ],
   "metadata": {
    "ExecuteTime": {
     "end_time": "2020-04-02T16:23:09.537981Z",
     "start_time": "2020-04-02T16:23:09.527566Z"
    }
   }
  },
  {
   "cell_type": "code",
   "execution_count": 10,
   "source": [
    "## City Code 종류\r\n",
    "custdf['City Code'].unique()"
   ],
   "outputs": [
    {
     "output_type": "execute_result",
     "data": {
      "text/plain": [
       "array([ 4.,  8.,  2.,  1.,  5.,  9.,  7., 10.,  6.,  3., nan])"
      ]
     },
     "metadata": {},
     "execution_count": 10
    }
   ],
   "metadata": {
    "ExecuteTime": {
     "end_time": "2020-04-01T13:52:57.392881Z",
     "start_time": "2020-04-01T13:52:57.384449Z"
    }
   }
  },
  {
   "cell_type": "code",
   "execution_count": 11,
   "source": [
    "## 상호 작용을 한 고객 수\r\n",
    "len(custdf['Customer ID'].unique())"
   ],
   "outputs": [
    {
     "output_type": "execute_result",
     "data": {
      "text/plain": [
       "5647"
      ]
     },
     "metadata": {},
     "execution_count": 11
    }
   ],
   "metadata": {
    "ExecuteTime": {
     "end_time": "2020-04-01T13:52:57.403794Z",
     "start_time": "2020-04-01T13:52:57.396353Z"
    }
   }
  },
  {
   "cell_type": "code",
   "execution_count": 12,
   "source": [
    "## store type 종류\r\n",
    "masterdf['Store Type'].unique()"
   ],
   "outputs": [
    {
     "output_type": "execute_result",
     "data": {
      "text/plain": [
       "array(['e-Shop', 'TeleShop', 'MBR', 'Flagship store'], dtype=object)"
      ]
     },
     "metadata": {},
     "execution_count": 12
    }
   ],
   "metadata": {
    "ExecuteTime": {
     "end_time": "2020-04-01T13:52:57.419172Z",
     "start_time": "2020-04-01T13:52:57.407265Z"
    }
   }
  },
  {
   "cell_type": "code",
   "execution_count": 13,
   "source": [
    "## 아이템 특징 데이터\r\n",
    "skudf = pd.read_csv('./data/prod_cat_info.csv')\r\n",
    "skudf.columns = ['Prod Cat Code', 'Prod Cat', 'Prod Sub Cat Code', 'Prod Subcat']\r\n",
    "skudf.head()"
   ],
   "outputs": [
    {
     "output_type": "execute_result",
     "data": {
      "text/plain": [
       "   Prod Cat Code  Prod Cat  Prod Sub Cat Code Prod Subcat\n",
       "0              1  Clothing                  4        Mens\n",
       "1              1  Clothing                  1       Women\n",
       "2              1  Clothing                  3        Kids\n",
       "3              2  Footwear                  1        Mens\n",
       "4              2  Footwear                  3       Women"
      ],
      "text/html": [
       "<div>\n",
       "<style scoped>\n",
       "    .dataframe tbody tr th:only-of-type {\n",
       "        vertical-align: middle;\n",
       "    }\n",
       "\n",
       "    .dataframe tbody tr th {\n",
       "        vertical-align: top;\n",
       "    }\n",
       "\n",
       "    .dataframe thead th {\n",
       "        text-align: right;\n",
       "    }\n",
       "</style>\n",
       "<table border=\"1\" class=\"dataframe\">\n",
       "  <thead>\n",
       "    <tr style=\"text-align: right;\">\n",
       "      <th></th>\n",
       "      <th>Prod Cat Code</th>\n",
       "      <th>Prod Cat</th>\n",
       "      <th>Prod Sub Cat Code</th>\n",
       "      <th>Prod Subcat</th>\n",
       "    </tr>\n",
       "  </thead>\n",
       "  <tbody>\n",
       "    <tr>\n",
       "      <th>0</th>\n",
       "      <td>1</td>\n",
       "      <td>Clothing</td>\n",
       "      <td>4</td>\n",
       "      <td>Mens</td>\n",
       "    </tr>\n",
       "    <tr>\n",
       "      <th>1</th>\n",
       "      <td>1</td>\n",
       "      <td>Clothing</td>\n",
       "      <td>1</td>\n",
       "      <td>Women</td>\n",
       "    </tr>\n",
       "    <tr>\n",
       "      <th>2</th>\n",
       "      <td>1</td>\n",
       "      <td>Clothing</td>\n",
       "      <td>3</td>\n",
       "      <td>Kids</td>\n",
       "    </tr>\n",
       "    <tr>\n",
       "      <th>3</th>\n",
       "      <td>2</td>\n",
       "      <td>Footwear</td>\n",
       "      <td>1</td>\n",
       "      <td>Mens</td>\n",
       "    </tr>\n",
       "    <tr>\n",
       "      <th>4</th>\n",
       "      <td>2</td>\n",
       "      <td>Footwear</td>\n",
       "      <td>3</td>\n",
       "      <td>Women</td>\n",
       "    </tr>\n",
       "  </tbody>\n",
       "</table>\n",
       "</div>"
      ]
     },
     "metadata": {},
     "execution_count": 13
    }
   ],
   "metadata": {
    "ExecuteTime": {
     "end_time": "2020-04-02T16:39:31.751365Z",
     "start_time": "2020-04-02T16:39:31.723554Z"
    },
    "scrolled": true
   }
  },
  {
   "cell_type": "markdown",
   "source": [
    "Looks like there is not much info on the product, except the key-value for each category and subcategory."
   ],
   "metadata": {}
  },
  {
   "cell_type": "markdown",
   "source": [
    "# RFMV"
   ],
   "metadata": {}
  },
  {
   "cell_type": "code",
   "execution_count": 14,
   "source": [
    "## 거래 날짜를 pandas의 datetime index로 표준화 \r\n",
    "masterdf['Date'] =  pd.DatetimeIndex(masterdf['Transaction Date'], dayfirst=True).date"
   ],
   "outputs": [],
   "metadata": {
    "ExecuteTime": {
     "end_time": "2020-04-02T16:26:39.307585Z",
     "start_time": "2020-04-02T16:26:37.645528Z"
    }
   }
  },
  {
   "cell_type": "code",
   "execution_count": 15,
   "source": [
    "### 첫 거래 날짜와 마지막 거래 날짜\r\n",
    "print(masterdf['Date'].min()), print(masterdf['Date'].max())"
   ],
   "outputs": [
    {
     "output_type": "stream",
     "name": "stdout",
     "text": [
      "2011-01-25\n",
      "2014-02-28\n"
     ]
    },
    {
     "output_type": "execute_result",
     "data": {
      "text/plain": [
       "(None, None)"
      ]
     },
     "metadata": {},
     "execution_count": 15
    }
   ],
   "metadata": {
    "ExecuteTime": {
     "end_time": "2020-04-02T16:26:39.320027Z",
     "start_time": "2020-04-02T16:26:39.309572Z"
    }
   }
  },
  {
   "cell_type": "code",
   "execution_count": 16,
   "source": [
    "### quantity와 based price에서 총 순 매출액(Net sales) 계산 (도시마다의 세금이 다를 수 있어 세금 제외)\r\n",
    "masterdf['Net Sales'] = masterdf['Qty'] * masterdf['Rate']"
   ],
   "outputs": [],
   "metadata": {
    "ExecuteTime": {
     "end_time": "2020-04-02T16:27:15.592354Z",
     "start_time": "2020-04-02T16:27:15.560112Z"
    }
   }
  },
  {
   "cell_type": "code",
   "execution_count": 17,
   "source": [
    "### category, subcategory, store type을 이용하여 고유한 material 표시기를 생성\r\n",
    "### 다른 sku는 다른 상점 유형에 판매된다고 가정\r\n",
    "masterdf['Material'] = masterdf['Prod Cat Code'].astype(str) + '-' + masterdf['Prod Subcat Code'].astype(str) + '-' + masterdf['Store Type'].astype(str)"
   ],
   "outputs": [],
   "metadata": {
    "ExecuteTime": {
     "end_time": "2020-04-02T16:27:17.131583Z",
     "start_time": "2020-04-02T16:27:17.094827Z"
    },
    "scrolled": true
   }
  },
  {
   "cell_type": "code",
   "execution_count": 18,
   "source": [
    "masterdf[['Prod Cat Code','Prod Subcat Code', 'Store Type', 'Material']].drop_duplicates(subset='Material').head(5)"
   ],
   "outputs": [
    {
     "output_type": "execute_result",
     "data": {
      "text/plain": [
       "   Prod Cat Code  Prod Subcat Code Store Type      Material\n",
       "0              1                 1     e-Shop    1-1-e-Shop\n",
       "1              3                 5     e-Shop    3-5-e-Shop\n",
       "2              5                 6   TeleShop  5-6-TeleShop\n",
       "3              6                11     e-Shop   6-11-e-Shop\n",
       "5              3                 8   TeleShop  3-8-TeleShop"
      ],
      "text/html": [
       "<div>\n",
       "<style scoped>\n",
       "    .dataframe tbody tr th:only-of-type {\n",
       "        vertical-align: middle;\n",
       "    }\n",
       "\n",
       "    .dataframe tbody tr th {\n",
       "        vertical-align: top;\n",
       "    }\n",
       "\n",
       "    .dataframe thead th {\n",
       "        text-align: right;\n",
       "    }\n",
       "</style>\n",
       "<table border=\"1\" class=\"dataframe\">\n",
       "  <thead>\n",
       "    <tr style=\"text-align: right;\">\n",
       "      <th></th>\n",
       "      <th>Prod Cat Code</th>\n",
       "      <th>Prod Subcat Code</th>\n",
       "      <th>Store Type</th>\n",
       "      <th>Material</th>\n",
       "    </tr>\n",
       "  </thead>\n",
       "  <tbody>\n",
       "    <tr>\n",
       "      <th>0</th>\n",
       "      <td>1</td>\n",
       "      <td>1</td>\n",
       "      <td>e-Shop</td>\n",
       "      <td>1-1-e-Shop</td>\n",
       "    </tr>\n",
       "    <tr>\n",
       "      <th>1</th>\n",
       "      <td>3</td>\n",
       "      <td>5</td>\n",
       "      <td>e-Shop</td>\n",
       "      <td>3-5-e-Shop</td>\n",
       "    </tr>\n",
       "    <tr>\n",
       "      <th>2</th>\n",
       "      <td>5</td>\n",
       "      <td>6</td>\n",
       "      <td>TeleShop</td>\n",
       "      <td>5-6-TeleShop</td>\n",
       "    </tr>\n",
       "    <tr>\n",
       "      <th>3</th>\n",
       "      <td>6</td>\n",
       "      <td>11</td>\n",
       "      <td>e-Shop</td>\n",
       "      <td>6-11-e-Shop</td>\n",
       "    </tr>\n",
       "    <tr>\n",
       "      <th>5</th>\n",
       "      <td>3</td>\n",
       "      <td>8</td>\n",
       "      <td>TeleShop</td>\n",
       "      <td>3-8-TeleShop</td>\n",
       "    </tr>\n",
       "  </tbody>\n",
       "</table>\n",
       "</div>"
      ]
     },
     "metadata": {},
     "execution_count": 18
    }
   ],
   "metadata": {
    "ExecuteTime": {
     "end_time": "2020-04-02T16:27:17.579553Z",
     "start_time": "2020-04-02T16:27:17.560210Z"
    }
   }
  },
  {
   "cell_type": "code",
   "execution_count": 19,
   "source": [
    "### Material 종류 확인\r\n",
    "len(masterdf['Material'].unique())"
   ],
   "outputs": [
    {
     "output_type": "execute_result",
     "data": {
      "text/plain": [
       "92"
      ]
     },
     "metadata": {},
     "execution_count": 19
    }
   ],
   "metadata": {
    "ExecuteTime": {
     "end_time": "2020-04-02T16:27:19.436987Z",
     "start_time": "2020-04-02T16:27:19.430042Z"
    }
   }
  },
  {
   "cell_type": "code",
   "execution_count": 20,
   "source": [
    "## '오늘(now)' 정보 획득, 이 경우 마지막 거래 날짜\r\n",
    "## '오늘' 부터 가까울 수록 최신 데이터\r\n",
    "\r\n",
    "import datetime as dt\r\n",
    "\r\n",
    "now = dt.date(2014, 3, 1) # just take the max date from the index + 1\r\n",
    "print(now)"
   ],
   "outputs": [
    {
     "output_type": "stream",
     "name": "stdout",
     "text": [
      "2014-03-01\n"
     ]
    }
   ],
   "metadata": {
    "ExecuteTime": {
     "end_time": "2020-04-02T16:27:33.963340Z",
     "start_time": "2020-04-02T16:27:33.958876Z"
    }
   }
  },
  {
   "cell_type": "code",
   "execution_count": 21,
   "source": [
    "# RECENCY (최신성)\r\n",
    "recency_df = masterdf.groupby('Customer ID').Date.max().reset_index()\r\n",
    "recency_df.columns = ['Customer ID','Last Purchase']\r\n",
    "recency_df['Recency'] = recency_df['Last Purchase'].apply(lambda x: (now - x).days)\r\n",
    "recency_df = recency_df[['Customer ID', 'Recency']]\r\n",
    "recency_df.head()"
   ],
   "outputs": [
    {
     "output_type": "execute_result",
     "data": {
      "text/plain": [
       "   Customer ID  Recency\n",
       "0       266783      374\n",
       "1       266784      452\n",
       "2       266785      212\n",
       "3       266788      382\n",
       "4       266794       17"
      ],
      "text/html": [
       "<div>\n",
       "<style scoped>\n",
       "    .dataframe tbody tr th:only-of-type {\n",
       "        vertical-align: middle;\n",
       "    }\n",
       "\n",
       "    .dataframe tbody tr th {\n",
       "        vertical-align: top;\n",
       "    }\n",
       "\n",
       "    .dataframe thead th {\n",
       "        text-align: right;\n",
       "    }\n",
       "</style>\n",
       "<table border=\"1\" class=\"dataframe\">\n",
       "  <thead>\n",
       "    <tr style=\"text-align: right;\">\n",
       "      <th></th>\n",
       "      <th>Customer ID</th>\n",
       "      <th>Recency</th>\n",
       "    </tr>\n",
       "  </thead>\n",
       "  <tbody>\n",
       "    <tr>\n",
       "      <th>0</th>\n",
       "      <td>266783</td>\n",
       "      <td>374</td>\n",
       "    </tr>\n",
       "    <tr>\n",
       "      <th>1</th>\n",
       "      <td>266784</td>\n",
       "      <td>452</td>\n",
       "    </tr>\n",
       "    <tr>\n",
       "      <th>2</th>\n",
       "      <td>266785</td>\n",
       "      <td>212</td>\n",
       "    </tr>\n",
       "    <tr>\n",
       "      <th>3</th>\n",
       "      <td>266788</td>\n",
       "      <td>382</td>\n",
       "    </tr>\n",
       "    <tr>\n",
       "      <th>4</th>\n",
       "      <td>266794</td>\n",
       "      <td>17</td>\n",
       "    </tr>\n",
       "  </tbody>\n",
       "</table>\n",
       "</div>"
      ]
     },
     "metadata": {},
     "execution_count": 21
    }
   ],
   "metadata": {
    "ExecuteTime": {
     "end_time": "2020-04-02T16:27:43.859130Z",
     "start_time": "2020-04-02T16:27:43.435545Z"
    }
   }
  },
  {
   "cell_type": "code",
   "execution_count": 22,
   "source": [
    "# FREQUENCY (빈도)\r\n",
    "frequency_df = masterdf.groupby('Customer ID')['Date'].count().reset_index()\r\n",
    "frequency_df.columns = ['Customer ID','Frequency']\r\n",
    "frequency_df.head() "
   ],
   "outputs": [
    {
     "output_type": "execute_result",
     "data": {
      "text/plain": [
       "   Customer ID  Frequency\n",
       "0       266783          5\n",
       "1       266784          3\n",
       "2       266785          8\n",
       "3       266788          4\n",
       "4       266794         12"
      ],
      "text/html": [
       "<div>\n",
       "<style scoped>\n",
       "    .dataframe tbody tr th:only-of-type {\n",
       "        vertical-align: middle;\n",
       "    }\n",
       "\n",
       "    .dataframe tbody tr th {\n",
       "        vertical-align: top;\n",
       "    }\n",
       "\n",
       "    .dataframe thead th {\n",
       "        text-align: right;\n",
       "    }\n",
       "</style>\n",
       "<table border=\"1\" class=\"dataframe\">\n",
       "  <thead>\n",
       "    <tr style=\"text-align: right;\">\n",
       "      <th></th>\n",
       "      <th>Customer ID</th>\n",
       "      <th>Frequency</th>\n",
       "    </tr>\n",
       "  </thead>\n",
       "  <tbody>\n",
       "    <tr>\n",
       "      <th>0</th>\n",
       "      <td>266783</td>\n",
       "      <td>5</td>\n",
       "    </tr>\n",
       "    <tr>\n",
       "      <th>1</th>\n",
       "      <td>266784</td>\n",
       "      <td>3</td>\n",
       "    </tr>\n",
       "    <tr>\n",
       "      <th>2</th>\n",
       "      <td>266785</td>\n",
       "      <td>8</td>\n",
       "    </tr>\n",
       "    <tr>\n",
       "      <th>3</th>\n",
       "      <td>266788</td>\n",
       "      <td>4</td>\n",
       "    </tr>\n",
       "    <tr>\n",
       "      <th>4</th>\n",
       "      <td>266794</td>\n",
       "      <td>12</td>\n",
       "    </tr>\n",
       "  </tbody>\n",
       "</table>\n",
       "</div>"
      ]
     },
     "metadata": {},
     "execution_count": 22
    }
   ],
   "metadata": {
    "ExecuteTime": {
     "end_time": "2020-04-02T16:27:44.640514Z",
     "start_time": "2020-04-02T16:27:44.623104Z"
    }
   }
  },
  {
   "cell_type": "code",
   "execution_count": 23,
   "source": [
    "# MONETARY (금액)\r\n",
    "monetary_df = masterdf.groupby('Customer ID')['Net Sales'].sum().reset_index()\r\n",
    "monetary_df.columns = ['Customer ID','Monetary']\r\n",
    "monetary_df.head()"
   ],
   "outputs": [
    {
     "output_type": "execute_result",
     "data": {
      "text/plain": [
       "   Customer ID  Monetary\n",
       "0       266783     13386\n",
       "1       266784      5153\n",
       "2       266785     31920\n",
       "3       266788      5514\n",
       "4       266794     25569"
      ],
      "text/html": [
       "<div>\n",
       "<style scoped>\n",
       "    .dataframe tbody tr th:only-of-type {\n",
       "        vertical-align: middle;\n",
       "    }\n",
       "\n",
       "    .dataframe tbody tr th {\n",
       "        vertical-align: top;\n",
       "    }\n",
       "\n",
       "    .dataframe thead th {\n",
       "        text-align: right;\n",
       "    }\n",
       "</style>\n",
       "<table border=\"1\" class=\"dataframe\">\n",
       "  <thead>\n",
       "    <tr style=\"text-align: right;\">\n",
       "      <th></th>\n",
       "      <th>Customer ID</th>\n",
       "      <th>Monetary</th>\n",
       "    </tr>\n",
       "  </thead>\n",
       "  <tbody>\n",
       "    <tr>\n",
       "      <th>0</th>\n",
       "      <td>266783</td>\n",
       "      <td>13386</td>\n",
       "    </tr>\n",
       "    <tr>\n",
       "      <th>1</th>\n",
       "      <td>266784</td>\n",
       "      <td>5153</td>\n",
       "    </tr>\n",
       "    <tr>\n",
       "      <th>2</th>\n",
       "      <td>266785</td>\n",
       "      <td>31920</td>\n",
       "    </tr>\n",
       "    <tr>\n",
       "      <th>3</th>\n",
       "      <td>266788</td>\n",
       "      <td>5514</td>\n",
       "    </tr>\n",
       "    <tr>\n",
       "      <th>4</th>\n",
       "      <td>266794</td>\n",
       "      <td>25569</td>\n",
       "    </tr>\n",
       "  </tbody>\n",
       "</table>\n",
       "</div>"
      ]
     },
     "metadata": {},
     "execution_count": 23
    }
   ],
   "metadata": {
    "ExecuteTime": {
     "end_time": "2020-04-02T16:27:47.796471Z",
     "start_time": "2020-04-02T16:27:47.760262Z"
    }
   }
  },
  {
   "cell_type": "code",
   "execution_count": 24,
   "source": [
    "# VARIETY (종류)\r\n",
    "variety_df = masterdf.groupby('Customer ID')['Material'].nunique().reset_index()\r\n",
    "variety_df.columns = ['Customer ID','Variety']\r\n",
    "variety_df.head()"
   ],
   "outputs": [
    {
     "output_type": "execute_result",
     "data": {
      "text/plain": [
       "   Customer ID  Variety\n",
       "0       266783        4\n",
       "1       266784        3\n",
       "2       266785        6\n",
       "3       266788        4\n",
       "4       266794       10"
      ],
      "text/html": [
       "<div>\n",
       "<style scoped>\n",
       "    .dataframe tbody tr th:only-of-type {\n",
       "        vertical-align: middle;\n",
       "    }\n",
       "\n",
       "    .dataframe tbody tr th {\n",
       "        vertical-align: top;\n",
       "    }\n",
       "\n",
       "    .dataframe thead th {\n",
       "        text-align: right;\n",
       "    }\n",
       "</style>\n",
       "<table border=\"1\" class=\"dataframe\">\n",
       "  <thead>\n",
       "    <tr style=\"text-align: right;\">\n",
       "      <th></th>\n",
       "      <th>Customer ID</th>\n",
       "      <th>Variety</th>\n",
       "    </tr>\n",
       "  </thead>\n",
       "  <tbody>\n",
       "    <tr>\n",
       "      <th>0</th>\n",
       "      <td>266783</td>\n",
       "      <td>4</td>\n",
       "    </tr>\n",
       "    <tr>\n",
       "      <th>1</th>\n",
       "      <td>266784</td>\n",
       "      <td>3</td>\n",
       "    </tr>\n",
       "    <tr>\n",
       "      <th>2</th>\n",
       "      <td>266785</td>\n",
       "      <td>6</td>\n",
       "    </tr>\n",
       "    <tr>\n",
       "      <th>3</th>\n",
       "      <td>266788</td>\n",
       "      <td>4</td>\n",
       "    </tr>\n",
       "    <tr>\n",
       "      <th>4</th>\n",
       "      <td>266794</td>\n",
       "      <td>10</td>\n",
       "    </tr>\n",
       "  </tbody>\n",
       "</table>\n",
       "</div>"
      ]
     },
     "metadata": {},
     "execution_count": 24
    }
   ],
   "metadata": {
    "ExecuteTime": {
     "end_time": "2020-04-02T16:27:49.085692Z",
     "start_time": "2020-04-02T16:27:49.057953Z"
    }
   }
  },
  {
   "cell_type": "code",
   "execution_count": 25,
   "source": [
    "rfmv = recency_df.copy()\r\n",
    "\r\n",
    "rfmv = rfmv.merge(frequency_df, on='Customer ID')\r\n",
    "rfmv = rfmv.merge(monetary_df, on='Customer ID')\r\n",
    "rfmv = rfmv.merge(variety_df, on='Customer ID')\r\n",
    "rfmv.head(5)"
   ],
   "outputs": [
    {
     "output_type": "execute_result",
     "data": {
      "text/plain": [
       "   Customer ID  Recency  Frequency  Monetary  Variety\n",
       "0       266783      374          5     13386        4\n",
       "1       266784      452          3      5153        3\n",
       "2       266785      212          8     31920        6\n",
       "3       266788      382          4      5514        4\n",
       "4       266794       17         12     25569       10"
      ],
      "text/html": [
       "<div>\n",
       "<style scoped>\n",
       "    .dataframe tbody tr th:only-of-type {\n",
       "        vertical-align: middle;\n",
       "    }\n",
       "\n",
       "    .dataframe tbody tr th {\n",
       "        vertical-align: top;\n",
       "    }\n",
       "\n",
       "    .dataframe thead th {\n",
       "        text-align: right;\n",
       "    }\n",
       "</style>\n",
       "<table border=\"1\" class=\"dataframe\">\n",
       "  <thead>\n",
       "    <tr style=\"text-align: right;\">\n",
       "      <th></th>\n",
       "      <th>Customer ID</th>\n",
       "      <th>Recency</th>\n",
       "      <th>Frequency</th>\n",
       "      <th>Monetary</th>\n",
       "      <th>Variety</th>\n",
       "    </tr>\n",
       "  </thead>\n",
       "  <tbody>\n",
       "    <tr>\n",
       "      <th>0</th>\n",
       "      <td>266783</td>\n",
       "      <td>374</td>\n",
       "      <td>5</td>\n",
       "      <td>13386</td>\n",
       "      <td>4</td>\n",
       "    </tr>\n",
       "    <tr>\n",
       "      <th>1</th>\n",
       "      <td>266784</td>\n",
       "      <td>452</td>\n",
       "      <td>3</td>\n",
       "      <td>5153</td>\n",
       "      <td>3</td>\n",
       "    </tr>\n",
       "    <tr>\n",
       "      <th>2</th>\n",
       "      <td>266785</td>\n",
       "      <td>212</td>\n",
       "      <td>8</td>\n",
       "      <td>31920</td>\n",
       "      <td>6</td>\n",
       "    </tr>\n",
       "    <tr>\n",
       "      <th>3</th>\n",
       "      <td>266788</td>\n",
       "      <td>382</td>\n",
       "      <td>4</td>\n",
       "      <td>5514</td>\n",
       "      <td>4</td>\n",
       "    </tr>\n",
       "    <tr>\n",
       "      <th>4</th>\n",
       "      <td>266794</td>\n",
       "      <td>17</td>\n",
       "      <td>12</td>\n",
       "      <td>25569</td>\n",
       "      <td>10</td>\n",
       "    </tr>\n",
       "  </tbody>\n",
       "</table>\n",
       "</div>"
      ]
     },
     "metadata": {},
     "execution_count": 25
    }
   ],
   "metadata": {
    "ExecuteTime": {
     "end_time": "2020-04-02T16:30:24.718979Z",
     "start_time": "2020-04-02T16:30:24.699634Z"
    },
    "scrolled": true
   }
  },
  {
   "cell_type": "code",
   "execution_count": 26,
   "source": [
    "### R, F, M, V의 25%, 50%, 75%의 사분위수를 dictonary 형식으로 저장\r\n",
    "rfmv_quantiles = rfmv.iloc[:, 1:].quantile(q = [0.25, 0.5, 0.75]).to_dict()\r\n",
    "rfmv_quantiles"
   ],
   "outputs": [
    {
     "output_type": "execute_result",
     "data": {
      "text/plain": [
       "{'Recency': {0.25: 92.0, 0.5: 212.0, 0.75: 405.0},\n",
       " 'Frequency': {0.25: 3.0, 0.5: 4.0, 0.75: 6.0},\n",
       " 'Monetary': {0.25: 5041.75, 0.5: 8801.0, 0.75: 13749.0},\n",
       " 'Variety': {0.25: 2.0, 0.5: 4.0, 0.75: 5.0}}"
      ]
     },
     "metadata": {},
     "execution_count": 26
    }
   ],
   "metadata": {
    "ExecuteTime": {
     "end_time": "2020-04-02T16:30:24.909937Z",
     "start_time": "2020-04-02T16:30:24.894561Z"
    }
   }
  },
  {
   "cell_type": "code",
   "execution_count": 27,
   "source": [
    "## 사분위수를 기준으로 하여 0-4의 점수를 반환하는 함수 생성\r\n",
    "## 이러한 점수는 RFMB의 실제 값 대신 K-Mean 알고리즘으로 쉽게 해석 가능\r\n",
    "\r\n",
    "### recency score: 오래될 수록 점수가 높음\r\n",
    "def RecencyScore(i, col, df):\r\n",
    "    if i <= df[col][0.25]:\r\n",
    "        return 4\r\n",
    "    elif i <= df[col][0.50]:\r\n",
    "        return 3\r\n",
    "    elif i <= df[col][0.75]: \r\n",
    "        return 2\r\n",
    "    else:\r\n",
    "        return 1\r\n",
    "    \r\n",
    "# F, M, V: Recency와 달리, 사분위수가 높을 수록 점수가 높다\r\n",
    "def FMVScore(i, col, df):\r\n",
    "    if i <= df[col][0.25]:\r\n",
    "        return 1\r\n",
    "    elif i <= df[col][0.50]:\r\n",
    "        return 2\r\n",
    "    elif i <= df[col][0.75]: \r\n",
    "        return 3    \r\n",
    "    else:\r\n",
    "        return 4"
   ],
   "outputs": [],
   "metadata": {
    "ExecuteTime": {
     "end_time": "2020-04-02T16:30:25.017570Z",
     "start_time": "2020-04-02T16:30:25.011124Z"
    }
   }
  },
  {
   "cell_type": "code",
   "execution_count": 28,
   "source": [
    "rfmv2 = rfmv.copy()\r\n",
    "\r\n",
    "rfmv2['R_q'] = rfmv2['Recency'].apply(RecencyScore, args=('Recency', rfmv_quantiles ))\r\n",
    "rfmv2['F_q'] = rfmv2['Frequency'].apply(FMVScore, args=('Frequency', rfmv_quantiles ))\r\n",
    "rfmv2['M_q'] = rfmv2['Monetary'].apply(FMVScore, args=('Monetary', rfmv_quantiles ))\r\n",
    "rfmv2['V_q'] = rfmv2['Variety'].apply(FMVScore, args=('Variety', rfmv_quantiles ))\r\n",
    "\r\n",
    "rfmv2 = rfmv2[['Customer ID', 'R_q', 'F_q', 'M_q', 'V_q',]]\r\n",
    "\r\n",
    "## 각 구성 요소의 총 점수 합계\r\n",
    "\r\n",
    "rfmv2['Total_Score'] = rfmv2['R_q'] + rfmv2['F_q'] + rfmv2['M_q'] + rfmv2['V_q']\r\n",
    "\r\n",
    "rfmv2 = rfmv2[['Customer ID', 'Total_Score']]\r\n",
    "\r\n",
    "# 중요(IMPORTANT) : 인덱스를 고객 번호로 설정\r\n",
    "rfmv2.index = rfmv2['Customer ID']\r\n",
    "rfmv2 = rfmv2.drop('Customer ID', 1)"
   ],
   "outputs": [],
   "metadata": {
    "ExecuteTime": {
     "end_time": "2020-04-02T16:30:25.321618Z",
     "start_time": "2020-04-02T16:30:25.204064Z"
    }
   }
  },
  {
   "cell_type": "code",
   "execution_count": 29,
   "source": [
    "# 최적의 군집 수를 찾기 위해 elbow 방식을 사용\r\n",
    "\r\n",
    "wcss = []\r\n",
    "for i in range(2,10):\r\n",
    "    kmeans = KMeans(n_clusters=i, \r\n",
    "                    init='k-means++')\r\n",
    "    kmeans.fit(rfmv2)\r\n",
    "    wcss.append(kmeans.inertia_)\r\n",
    "    \r\n",
    "# Elbow 방법의 그래프\r\n",
    "plt.plot(range(2,10), wcss)\r\n",
    "plt.title('Elbow graph')\r\n",
    "plt.xlabel('Cluster number')\r\n",
    "plt.ylabel('WCSS')\r\n",
    "plt.show()"
   ],
   "outputs": [
    {
     "output_type": "display_data",
     "data": {
      "text/plain": [
       "<Figure size 432x288 with 1 Axes>"
      ],
      "image/png": "[encoded data removed]"
     },
     "metadata": {
      "needs_background": "light"
     }
    }
   ],
   "metadata": {
    "ExecuteTime": {
     "end_time": "2020-04-02T16:30:25.862752Z",
     "start_time": "2020-04-02T16:30:25.325586Z"
    }
   }
  },
  {
   "cell_type": "code",
   "execution_count": 30,
   "source": [
    "# 위 \"elbow\" 그래프의 최적의 수를 이용하여 KMean 군집 적용\r\n",
    "kmeans = KMeans(n_clusters=4, \r\n",
    "                init='random', \r\n",
    "                random_state=None)\r\n",
    "\r\n",
    "clusters = kmeans.fit_predict(rfmv2)\r\n",
    "\r\n",
    "### 군진 결과를 원본 rfmv 데이터에 추가\r\n",
    "rfmv['Clusters'] = clusters"
   ],
   "outputs": [],
   "metadata": {
    "ExecuteTime": {
     "end_time": "2020-04-02T16:30:25.905905Z",
     "start_time": "2020-04-02T16:30:25.865233Z"
    }
   }
  },
  {
   "cell_type": "code",
   "execution_count": 31,
   "source": [
    "rfmv.head(5)"
   ],
   "outputs": [
    {
     "output_type": "execute_result",
     "data": {
      "text/plain": [
       "   Customer ID  Recency  Frequency  Monetary  Variety  Clusters\n",
       "0       266783      374          5     13386        4         1\n",
       "1       266784      452          3      5153        3         2\n",
       "2       266785      212          8     31920        6         0\n",
       "3       266788      382          4      5514        4         3\n",
       "4       266794       17         12     25569       10         0"
      ],
      "text/html": [
       "<div>\n",
       "<style scoped>\n",
       "    .dataframe tbody tr th:only-of-type {\n",
       "        vertical-align: middle;\n",
       "    }\n",
       "\n",
       "    .dataframe tbody tr th {\n",
       "        vertical-align: top;\n",
       "    }\n",
       "\n",
       "    .dataframe thead th {\n",
       "        text-align: right;\n",
       "    }\n",
       "</style>\n",
       "<table border=\"1\" class=\"dataframe\">\n",
       "  <thead>\n",
       "    <tr style=\"text-align: right;\">\n",
       "      <th></th>\n",
       "      <th>Customer ID</th>\n",
       "      <th>Recency</th>\n",
       "      <th>Frequency</th>\n",
       "      <th>Monetary</th>\n",
       "      <th>Variety</th>\n",
       "      <th>Clusters</th>\n",
       "    </tr>\n",
       "  </thead>\n",
       "  <tbody>\n",
       "    <tr>\n",
       "      <th>0</th>\n",
       "      <td>266783</td>\n",
       "      <td>374</td>\n",
       "      <td>5</td>\n",
       "      <td>13386</td>\n",
       "      <td>4</td>\n",
       "      <td>1</td>\n",
       "    </tr>\n",
       "    <tr>\n",
       "      <th>1</th>\n",
       "      <td>266784</td>\n",
       "      <td>452</td>\n",
       "      <td>3</td>\n",
       "      <td>5153</td>\n",
       "      <td>3</td>\n",
       "      <td>2</td>\n",
       "    </tr>\n",
       "    <tr>\n",
       "      <th>2</th>\n",
       "      <td>266785</td>\n",
       "      <td>212</td>\n",
       "      <td>8</td>\n",
       "      <td>31920</td>\n",
       "      <td>6</td>\n",
       "      <td>0</td>\n",
       "    </tr>\n",
       "    <tr>\n",
       "      <th>3</th>\n",
       "      <td>266788</td>\n",
       "      <td>382</td>\n",
       "      <td>4</td>\n",
       "      <td>5514</td>\n",
       "      <td>4</td>\n",
       "      <td>3</td>\n",
       "    </tr>\n",
       "    <tr>\n",
       "      <th>4</th>\n",
       "      <td>266794</td>\n",
       "      <td>17</td>\n",
       "      <td>12</td>\n",
       "      <td>25569</td>\n",
       "      <td>10</td>\n",
       "      <td>0</td>\n",
       "    </tr>\n",
       "  </tbody>\n",
       "</table>\n",
       "</div>"
      ]
     },
     "metadata": {},
     "execution_count": 31
    }
   ],
   "metadata": {
    "ExecuteTime": {
     "end_time": "2020-04-02T16:30:25.960025Z",
     "start_time": "2020-04-02T16:30:25.942611Z"
    }
   }
  },
  {
   "cell_type": "code",
   "execution_count": 32,
   "source": [
    "### counter 기능은 각 고유값에 몇개가 있는지 확인\r\n",
    "### 이 경우, 각 군집의 수 확인\r\n",
    "Counter(clusters)"
   ],
   "outputs": [
    {
     "output_type": "execute_result",
     "data": {
      "text/plain": [
       "Counter({1: 1273, 2: 1436, 0: 1238, 3: 1559})"
      ]
     },
     "metadata": {},
     "execution_count": 32
    }
   ],
   "metadata": {
    "ExecuteTime": {
     "end_time": "2020-04-02T16:30:16.371685Z",
     "start_time": "2020-04-02T16:30:16.366230Z"
    },
    "scrolled": true
   }
  },
  {
   "cell_type": "code",
   "execution_count": 33,
   "source": [
    "## optional: 군집의 모양을 보기위 각각의 RFMV로 두 구성요소 그래프 생성\r\n",
    "## optional: RFMV의 다른 요소로 그래프 생성 가능\r\n",
    "\r\n",
    "fig, ax = plt.subplots(figsize=(12,8))\r\n",
    "\r\n",
    "var1 = 'Recency'\r\n",
    "var2 = 'Frequency'\r\n",
    "temp = rfmv.copy()\r\n",
    "\r\n",
    "c1 = temp[temp.Clusters == 0]\r\n",
    "c2 = temp[temp.Clusters == 1]\r\n",
    "c3 = temp[temp.Clusters == 2]\r\n",
    "c4 = temp[temp.Clusters == 3]\r\n",
    "\r\n",
    "# 군집 시각화\r\n",
    "plt.scatter(c1[var1], c1[var2], c = 'b', label = 'Cluster 1', s=8)\r\n",
    "plt.scatter(c2[var1], c2[var2], c = 'r', label = 'Cluster 2', s=8)\r\n",
    "plt.scatter(c3[var1], c3[var2], c = 'g', label = 'Cluster 3', s=8)\r\n",
    "plt.scatter(c4[var1], c4[var2], c = 'k', label = 'Cluster 4', s=8)\r\n",
    "\r\n",
    "plt.title('Clusters of customers', size=20)\r\n",
    "plt.xlabel(var1, size=20)\r\n",
    "plt.ylabel(var2, size=20)\r\n",
    "plt.legend(fontsize=20)"
   ],
   "outputs": [
    {
     "output_type": "execute_result",
     "data": {
      "text/plain": [
       "<matplotlib.legend.Legend at 0x20205345e10>"
      ]
     },
     "metadata": {},
     "execution_count": 33
    },
    {
     "output_type": "display_data",
     "data": {
      "text/plain": [
       "<Figure size 864x576 with 1 Axes>"
      ],
      "image/png": "[encoded data removed]"
     },
     "metadata": {
      "needs_background": "light"
     }
    }
   ],
   "metadata": {
    "ExecuteTime": {
     "end_time": "2020-04-02T16:38:37.331766Z",
     "start_time": "2020-04-02T16:38:37.004407Z"
    }
   }
  },
  {
   "cell_type": "markdown",
   "source": [
    "# Recommendation Weight"
   ],
   "metadata": {}
  },
  {
   "cell_type": "code",
   "execution_count": 34,
   "source": [
    "### 비즈니스 경우에 rec 엔진은 명확한 고객에게만 추천을 하고 싶을 것이다.\r\n",
    "### 여기선 최근 1년 365일을 기준으로 하여 실고객에게 추천\r\n",
    "active_cust = rfmv[rfmv.Recency < 365]"
   ],
   "outputs": [],
   "metadata": {
    "ExecuteTime": {
     "end_time": "2020-04-02T16:38:39.388710Z",
     "start_time": "2020-04-02T16:38:39.383751Z"
    }
   }
  },
  {
   "cell_type": "code",
   "execution_count": 35,
   "source": [
    "### 군집화된 고객 특징을 마스터 데이터에 결합\r\n",
    "cleaned_df = masterdf.merge(active_cust[['Customer ID','Clusters']], how='left', on='Customer ID')\r\n",
    "\r\n",
    "## 군집을 기준으로 null 값이 존재하는 행 삭제\r\n",
    "cleaned_df = cleaned_df[cleaned_df['Clusters'].notnull()]\r\n",
    "\r\n",
    "## 소비자 데이터 추가\r\n",
    "cleaned_df = cleaned_df.merge(custdf[['Customer ID', 'City Code']], how='left', \r\n",
    "                on='Customer ID')\r\n",
    "\r\n",
    "### sku 특징(물품 카테고리) 를 마스터 데이터에 결합\r\n",
    "cleaned_df = cleaned_df.merge(skudf[['Prod Cat', 'Prod Cat Code']], how='left', \r\n",
    "                on='Prod Cat Code')"
   ],
   "outputs": [],
   "metadata": {
    "ExecuteTime": {
     "end_time": "2020-04-02T16:39:36.849383Z",
     "start_time": "2020-04-02T16:39:36.794824Z"
    },
    "scrolled": true
   }
  },
  {
   "cell_type": "code",
   "execution_count": 36,
   "source": [
    "### 데이터 상태 체크 transactions, customer, sku의 길이\r\n",
    "len(cleaned_df), len(cleaned_df['Customer ID'].unique()), len(cleaned_df['Material'].unique())"
   ],
   "outputs": [
    {
     "output_type": "execute_result",
     "data": {
      "text/plain": [
       "(77908, 3899, 92)"
      ]
     },
     "metadata": {},
     "execution_count": 36
    }
   ],
   "metadata": {
    "ExecuteTime": {
     "end_time": "2020-04-02T16:39:37.590904Z",
     "start_time": "2020-04-02T16:39:37.572056Z"
    }
   }
  },
  {
   "cell_type": "code",
   "execution_count": 37,
   "source": [
    "# 필수 열 가져오기\r\n",
    "# 불필요한 열 제거 및 필수 열 유지 \r\n",
    "final_cleaned_df = cleaned_df\r\n",
    "\r\n",
    "final_cleaned_df = final_cleaned_df[['Prod Cat','Material','Qty','Customer ID','Clusters',]]\r\n",
    "\r\n",
    "# 그룹화 하여 각 고객의 전체 수량을 획득\r\n",
    "# 고유한 고객 목록 유지, 중복 제거\r\n",
    "cust_grouped = final_cleaned_df.groupby(['Customer ID',\r\n",
    "                                         'Prod Cat',\r\n",
    "                                         'Material',\r\n",
    "                                        'Clusters']).sum().reset_index()\r\n"
   ],
   "outputs": [],
   "metadata": {
    "ExecuteTime": {
     "end_time": "2020-04-02T16:39:50.420076Z",
     "start_time": "2020-04-02T16:39:50.360510Z"
    }
   }
  },
  {
   "cell_type": "code",
   "execution_count": 38,
   "source": [
    "## Interaction Matrix \r\n",
    "## 판매 수량 측면에서 모든 Material에 대한 고객의 상호 작용 가져오기\r\n",
    "interactions = cust_grouped.groupby(['Customer ID', 'Material'])['Qty'].sum().unstack().fillna(0)\r\n",
    "\r\n",
    "# sklearn.preprocessing.MinMaxScaler을 이용하여 상호 작용 값 조정\r\n",
    "minmaxscaler = preprocessing.MinMaxScaler()\r\n",
    "interactions_scaled = minmaxscaler.fit_transform(interactions)\r\n",
    "interactions_scaled = pd.DataFrame(interactions_scaled)\r\n",
    "\r\n",
    "## 스케일 진행하며 index(고객), column(아이템) 정보 삭제 이러한 정보를 다시 설정\r\n",
    "interactions_scaled.index = interactions.index\r\n",
    "interactions_scaled.columns = interactions.columns"
   ],
   "outputs": [],
   "metadata": {
    "ExecuteTime": {
     "end_time": "2020-04-02T16:39:58.329730Z",
     "start_time": "2020-04-02T16:39:58.294549Z"
    }
   }
  },
  {
   "cell_type": "code",
   "execution_count": 39,
   "source": [
    "len(interactions.columns)"
   ],
   "outputs": [
    {
     "output_type": "execute_result",
     "data": {
      "text/plain": [
       "92"
      ]
     },
     "metadata": {},
     "execution_count": 39
    }
   ],
   "metadata": {}
  },
  {
   "cell_type": "code",
   "execution_count": 40,
   "source": [
    "interactions"
   ],
   "outputs": [
    {
     "output_type": "execute_result",
     "data": {
      "text/plain": [
       "Material     1-1-Flagship store  1-1-MBR  1-1-TeleShop  1-1-e-Shop  \\\n",
       "Customer ID                                                          \n",
       "266785                      0.0      0.0           0.0         0.0   \n",
       "266794                      0.0      0.0           0.0         0.0   \n",
       "266799                      0.0      0.0           0.0         0.0   \n",
       "266804                      0.0      0.0           0.0         0.0   \n",
       "266805                      0.0      0.0           0.0         0.0   \n",
       "...                         ...      ...           ...         ...   \n",
       "275252                      0.0      0.0           0.0         0.0   \n",
       "275255                      0.0      0.0           0.0         0.0   \n",
       "275257                      0.0      0.0           0.0         0.0   \n",
       "275261                      0.0      0.0           0.0         0.0   \n",
       "275265                      0.0      0.0           0.0         0.0   \n",
       "\n",
       "Material     1-3-Flagship store  1-3-MBR  1-3-TeleShop  1-3-e-Shop  \\\n",
       "Customer ID                                                          \n",
       "266785                      0.0      0.0           0.0         0.0   \n",
       "266794                      0.0      9.0           0.0        12.0   \n",
       "266799                      0.0      0.0           0.0         0.0   \n",
       "266804                      0.0      0.0           0.0         0.0   \n",
       "266805                      0.0      0.0           0.0         0.0   \n",
       "...                         ...      ...           ...         ...   \n",
       "275252                      0.0      0.0           0.0         0.0   \n",
       "275255                      0.0      0.0           0.0         0.0   \n",
       "275257                      0.0      0.0           0.0         0.0   \n",
       "275261                      0.0      0.0           0.0         0.0   \n",
       "275265                      0.0      0.0           0.0         0.0   \n",
       "\n",
       "Material     1-4-Flagship store  1-4-MBR  ...  6-11-TeleShop  6-11-e-Shop  \\\n",
       "Customer ID                               ...                               \n",
       "266785                      0.0      0.0  ...            0.0          0.0   \n",
       "266794                      0.0      0.0  ...            0.0          0.0   \n",
       "266799                      0.0      0.0  ...            0.0          0.0   \n",
       "266804                      0.0      0.0  ...            0.0          0.0   \n",
       "266805                      0.0      0.0  ...            0.0          0.0   \n",
       "...                         ...      ...  ...            ...          ...   \n",
       "275252                      0.0      0.0  ...            0.0          0.0   \n",
       "275255                      0.0      0.0  ...            0.0          0.0   \n",
       "275257                      0.0      0.0  ...            0.0          0.0   \n",
       "275261                      0.0      0.0  ...            0.0          0.0   \n",
       "275265                      0.0      0.0  ...            0.0          0.0   \n",
       "\n",
       "Material     6-12-Flagship store  6-12-MBR  6-12-TeleShop  6-12-e-Shop  \\\n",
       "Customer ID                                                              \n",
       "266785                       0.0       0.0            0.0          0.0   \n",
       "266794                       0.0       0.0            0.0          0.0   \n",
       "266799                       0.0       0.0            0.0          0.0   \n",
       "266804                       0.0       0.0            0.0          0.0   \n",
       "266805                       0.0       0.0            0.0          0.0   \n",
       "...                          ...       ...            ...          ...   \n",
       "275252                       0.0       0.0            0.0          0.0   \n",
       "275255                       0.0       0.0            0.0          0.0   \n",
       "275257                       0.0       0.0            0.0          0.0   \n",
       "275261                       0.0       0.0            0.0          0.0   \n",
       "275265                       0.0       0.0            0.0          0.0   \n",
       "\n",
       "Material     6-2-Flagship store  6-2-MBR  6-2-TeleShop  6-2-e-Shop  \n",
       "Customer ID                                                         \n",
       "266785                      0.0      0.0           0.0         0.0  \n",
       "266794                      0.0      0.0           0.0         0.0  \n",
       "266799                      0.0      0.0           0.0         0.0  \n",
       "266804                      0.0      0.0           0.0         0.0  \n",
       "266805                      0.0      0.0           0.0         0.0  \n",
       "...                         ...      ...           ...         ...  \n",
       "275252                      0.0      0.0           0.0         0.0  \n",
       "275255                      0.0      0.0           0.0         0.0  \n",
       "275257                      0.0      0.0           0.0         0.0  \n",
       "275261                      0.0      0.0           0.0         0.0  \n",
       "275265                     12.0      0.0           0.0         0.0  \n",
       "\n",
       "[3899 rows x 92 columns]"
      ],
      "text/html": [
       "<div>\n",
       "<style scoped>\n",
       "    .dataframe tbody tr th:only-of-type {\n",
       "        vertical-align: middle;\n",
       "    }\n",
       "\n",
       "    .dataframe tbody tr th {\n",
       "        vertical-align: top;\n",
       "    }\n",
       "\n",
       "    .dataframe thead th {\n",
       "        text-align: right;\n",
       "    }\n",
       "</style>\n",
       "<table border=\"1\" class=\"dataframe\">\n",
       "  <thead>\n",
       "    <tr style=\"text-align: right;\">\n",
       "      <th>Material</th>\n",
       "      <th>1-1-Flagship store</th>\n",
       "      <th>1-1-MBR</th>\n",
       "      <th>1-1-TeleShop</th>\n",
       "      <th>1-1-e-Shop</th>\n",
       "      <th>1-3-Flagship store</th>\n",
       "      <th>1-3-MBR</th>\n",
       "      <th>1-3-TeleShop</th>\n",
       "      <th>1-3-e-Shop</th>\n",
       "      <th>1-4-Flagship store</th>\n",
       "      <th>1-4-MBR</th>\n",
       "      <th>...</th>\n",
       "      <th>6-11-TeleShop</th>\n",
       "      <th>6-11-e-Shop</th>\n",
       "      <th>6-12-Flagship store</th>\n",
       "      <th>6-12-MBR</th>\n",
       "      <th>6-12-TeleShop</th>\n",
       "      <th>6-12-e-Shop</th>\n",
       "      <th>6-2-Flagship store</th>\n",
       "      <th>6-2-MBR</th>\n",
       "      <th>6-2-TeleShop</th>\n",
       "      <th>6-2-e-Shop</th>\n",
       "    </tr>\n",
       "    <tr>\n",
       "      <th>Customer ID</th>\n",
       "      <th></th>\n",
       "      <th></th>\n",
       "      <th></th>\n",
       "      <th></th>\n",
       "      <th></th>\n",
       "      <th></th>\n",
       "      <th></th>\n",
       "      <th></th>\n",
       "      <th></th>\n",
       "      <th></th>\n",
       "      <th></th>\n",
       "      <th></th>\n",
       "      <th></th>\n",
       "      <th></th>\n",
       "      <th></th>\n",
       "      <th></th>\n",
       "      <th></th>\n",
       "      <th></th>\n",
       "      <th></th>\n",
       "      <th></th>\n",
       "      <th></th>\n",
       "    </tr>\n",
       "  </thead>\n",
       "  <tbody>\n",
       "    <tr>\n",
       "      <th>266785</th>\n",
       "      <td>0.0</td>\n",
       "      <td>0.0</td>\n",
       "      <td>0.0</td>\n",
       "      <td>0.0</td>\n",
       "      <td>0.0</td>\n",
       "      <td>0.0</td>\n",
       "      <td>0.0</td>\n",
       "      <td>0.0</td>\n",
       "      <td>0.0</td>\n",
       "      <td>0.0</td>\n",
       "      <td>...</td>\n",
       "      <td>0.0</td>\n",
       "      <td>0.0</td>\n",
       "      <td>0.0</td>\n",
       "      <td>0.0</td>\n",
       "      <td>0.0</td>\n",
       "      <td>0.0</td>\n",
       "      <td>0.0</td>\n",
       "      <td>0.0</td>\n",
       "      <td>0.0</td>\n",
       "      <td>0.0</td>\n",
       "    </tr>\n",
       "    <tr>\n",
       "      <th>266794</th>\n",
       "      <td>0.0</td>\n",
       "      <td>0.0</td>\n",
       "      <td>0.0</td>\n",
       "      <td>0.0</td>\n",
       "      <td>0.0</td>\n",
       "      <td>9.0</td>\n",
       "      <td>0.0</td>\n",
       "      <td>12.0</td>\n",
       "      <td>0.0</td>\n",
       "      <td>0.0</td>\n",
       "      <td>...</td>\n",
       "      <td>0.0</td>\n",
       "      <td>0.0</td>\n",
       "      <td>0.0</td>\n",
       "      <td>0.0</td>\n",
       "      <td>0.0</td>\n",
       "      <td>0.0</td>\n",
       "      <td>0.0</td>\n",
       "      <td>0.0</td>\n",
       "      <td>0.0</td>\n",
       "      <td>0.0</td>\n",
       "    </tr>\n",
       "    <tr>\n",
       "      <th>266799</th>\n",
       "      <td>0.0</td>\n",
       "      <td>0.0</td>\n",
       "      <td>0.0</td>\n",
       "      <td>0.0</td>\n",
       "      <td>0.0</td>\n",
       "      <td>0.0</td>\n",
       "      <td>0.0</td>\n",
       "      <td>0.0</td>\n",
       "      <td>0.0</td>\n",
       "      <td>0.0</td>\n",
       "      <td>...</td>\n",
       "      <td>0.0</td>\n",
       "      <td>0.0</td>\n",
       "      <td>0.0</td>\n",
       "      <td>0.0</td>\n",
       "      <td>0.0</td>\n",
       "      <td>0.0</td>\n",
       "      <td>0.0</td>\n",
       "      <td>0.0</td>\n",
       "      <td>0.0</td>\n",
       "      <td>0.0</td>\n",
       "    </tr>\n",
       "    <tr>\n",
       "      <th>266804</th>\n",
       "      <td>0.0</td>\n",
       "      <td>0.0</td>\n",
       "      <td>0.0</td>\n",
       "      <td>0.0</td>\n",
       "      <td>0.0</td>\n",
       "      <td>0.0</td>\n",
       "      <td>0.0</td>\n",
       "      <td>0.0</td>\n",
       "      <td>0.0</td>\n",
       "      <td>0.0</td>\n",
       "      <td>...</td>\n",
       "      <td>0.0</td>\n",
       "      <td>0.0</td>\n",
       "      <td>0.0</td>\n",
       "      <td>0.0</td>\n",
       "      <td>0.0</td>\n",
       "      <td>0.0</td>\n",
       "      <td>0.0</td>\n",
       "      <td>0.0</td>\n",
       "      <td>0.0</td>\n",
       "      <td>0.0</td>\n",
       "    </tr>\n",
       "    <tr>\n",
       "      <th>266805</th>\n",
       "      <td>0.0</td>\n",
       "      <td>0.0</td>\n",
       "      <td>0.0</td>\n",
       "      <td>0.0</td>\n",
       "      <td>0.0</td>\n",
       "      <td>0.0</td>\n",
       "      <td>0.0</td>\n",
       "      <td>0.0</td>\n",
       "      <td>0.0</td>\n",
       "      <td>0.0</td>\n",
       "      <td>...</td>\n",
       "      <td>0.0</td>\n",
       "      <td>0.0</td>\n",
       "      <td>0.0</td>\n",
       "      <td>0.0</td>\n",
       "      <td>0.0</td>\n",
       "      <td>0.0</td>\n",
       "      <td>0.0</td>\n",
       "      <td>0.0</td>\n",
       "      <td>0.0</td>\n",
       "      <td>0.0</td>\n",
       "    </tr>\n",
       "    <tr>\n",
       "      <th>...</th>\n",
       "      <td>...</td>\n",
       "      <td>...</td>\n",
       "      <td>...</td>\n",
       "      <td>...</td>\n",
       "      <td>...</td>\n",
       "      <td>...</td>\n",
       "      <td>...</td>\n",
       "      <td>...</td>\n",
       "      <td>...</td>\n",
       "      <td>...</td>\n",
       "      <td>...</td>\n",
       "      <td>...</td>\n",
       "      <td>...</td>\n",
       "      <td>...</td>\n",
       "      <td>...</td>\n",
       "      <td>...</td>\n",
       "      <td>...</td>\n",
       "      <td>...</td>\n",
       "      <td>...</td>\n",
       "      <td>...</td>\n",
       "      <td>...</td>\n",
       "    </tr>\n",
       "    <tr>\n",
       "      <th>275252</th>\n",
       "      <td>0.0</td>\n",
       "      <td>0.0</td>\n",
       "      <td>0.0</td>\n",
       "      <td>0.0</td>\n",
       "      <td>0.0</td>\n",
       "      <td>0.0</td>\n",
       "      <td>0.0</td>\n",
       "      <td>0.0</td>\n",
       "      <td>0.0</td>\n",
       "      <td>0.0</td>\n",
       "      <td>...</td>\n",
       "      <td>0.0</td>\n",
       "      <td>0.0</td>\n",
       "      <td>0.0</td>\n",
       "      <td>0.0</td>\n",
       "      <td>0.0</td>\n",
       "      <td>0.0</td>\n",
       "      <td>0.0</td>\n",
       "      <td>0.0</td>\n",
       "      <td>0.0</td>\n",
       "      <td>0.0</td>\n",
       "    </tr>\n",
       "    <tr>\n",
       "      <th>275255</th>\n",
       "      <td>0.0</td>\n",
       "      <td>0.0</td>\n",
       "      <td>0.0</td>\n",
       "      <td>0.0</td>\n",
       "      <td>0.0</td>\n",
       "      <td>0.0</td>\n",
       "      <td>0.0</td>\n",
       "      <td>0.0</td>\n",
       "      <td>0.0</td>\n",
       "      <td>0.0</td>\n",
       "      <td>...</td>\n",
       "      <td>0.0</td>\n",
       "      <td>0.0</td>\n",
       "      <td>0.0</td>\n",
       "      <td>0.0</td>\n",
       "      <td>0.0</td>\n",
       "      <td>0.0</td>\n",
       "      <td>0.0</td>\n",
       "      <td>0.0</td>\n",
       "      <td>0.0</td>\n",
       "      <td>0.0</td>\n",
       "    </tr>\n",
       "    <tr>\n",
       "      <th>275257</th>\n",
       "      <td>0.0</td>\n",
       "      <td>0.0</td>\n",
       "      <td>0.0</td>\n",
       "      <td>0.0</td>\n",
       "      <td>0.0</td>\n",
       "      <td>0.0</td>\n",
       "      <td>0.0</td>\n",
       "      <td>0.0</td>\n",
       "      <td>0.0</td>\n",
       "      <td>0.0</td>\n",
       "      <td>...</td>\n",
       "      <td>0.0</td>\n",
       "      <td>0.0</td>\n",
       "      <td>0.0</td>\n",
       "      <td>0.0</td>\n",
       "      <td>0.0</td>\n",
       "      <td>0.0</td>\n",
       "      <td>0.0</td>\n",
       "      <td>0.0</td>\n",
       "      <td>0.0</td>\n",
       "      <td>0.0</td>\n",
       "    </tr>\n",
       "    <tr>\n",
       "      <th>275261</th>\n",
       "      <td>0.0</td>\n",
       "      <td>0.0</td>\n",
       "      <td>0.0</td>\n",
       "      <td>0.0</td>\n",
       "      <td>0.0</td>\n",
       "      <td>0.0</td>\n",
       "      <td>0.0</td>\n",
       "      <td>0.0</td>\n",
       "      <td>0.0</td>\n",
       "      <td>0.0</td>\n",
       "      <td>...</td>\n",
       "      <td>0.0</td>\n",
       "      <td>0.0</td>\n",
       "      <td>0.0</td>\n",
       "      <td>0.0</td>\n",
       "      <td>0.0</td>\n",
       "      <td>0.0</td>\n",
       "      <td>0.0</td>\n",
       "      <td>0.0</td>\n",
       "      <td>0.0</td>\n",
       "      <td>0.0</td>\n",
       "    </tr>\n",
       "    <tr>\n",
       "      <th>275265</th>\n",
       "      <td>0.0</td>\n",
       "      <td>0.0</td>\n",
       "      <td>0.0</td>\n",
       "      <td>0.0</td>\n",
       "      <td>0.0</td>\n",
       "      <td>0.0</td>\n",
       "      <td>0.0</td>\n",
       "      <td>0.0</td>\n",
       "      <td>0.0</td>\n",
       "      <td>0.0</td>\n",
       "      <td>...</td>\n",
       "      <td>0.0</td>\n",
       "      <td>0.0</td>\n",
       "      <td>0.0</td>\n",
       "      <td>0.0</td>\n",
       "      <td>0.0</td>\n",
       "      <td>0.0</td>\n",
       "      <td>12.0</td>\n",
       "      <td>0.0</td>\n",
       "      <td>0.0</td>\n",
       "      <td>0.0</td>\n",
       "    </tr>\n",
       "  </tbody>\n",
       "</table>\n",
       "<p>3899 rows × 92 columns</p>\n",
       "</div>"
      ]
     },
     "metadata": {},
     "execution_count": 40
    }
   ],
   "metadata": {
    "ExecuteTime": {
     "end_time": "2020-04-02T16:39:59.618476Z",
     "start_time": "2020-04-02T16:39:59.549020Z"
    },
    "scrolled": true
   }
  },
  {
   "cell_type": "code",
   "execution_count": 41,
   "source": [
    "### User Features Matrix \r\n",
    "## 고객이 구매하는 고유한 카테고리, 카테고리 별 수량으로 그룹화\r\n",
    "cust_qty = cust_grouped.groupby(['Customer ID', 'Prod Cat'])['Qty'].sum().unstack().fillna(0)\r\n",
    "\r\n",
    "# Scaled value of the categories\r\n",
    "# sklearn.preprocessing.MinMaxScaler을 이용하여 categories 조정\r\n",
    "minmaxscaler = preprocessing.MinMaxScaler()\r\n",
    "cust_qty_scaled = minmaxscaler.fit_transform(cust_qty)\r\n",
    "cust_qty_scaled = pd.DataFrame(cust_qty_scaled)\r\n",
    "cust_qty_scaled.index = cust_qty.index\r\n",
    "cust_qty_scaled.columns = cust_qty.columns\r\n",
    "\r\n",
    "## 고객의 군집 특징을 포함하여, user feature에 추가하려는 추가 특징.\r\n",
    "## 군집은 고객의 \"특성\" 역활. groupby를 이용하여 각 고객의 군집에 대한 원-핫 인코딩 진행\r\n",
    "cust_clus = cust_grouped.groupby(['Customer ID', 'Clusters'])['Clusters'].nunique().unstack().fillna(0)\r\n",
    "cust_clus\r\n",
    "\r\n",
    "# 두개의 특징을 결합하여 User Features Matrix 생성 \r\n",
    "customer_features = pd.merge(cust_qty_scaled, cust_clus, left_index=True, right_index=True, how='inner')\r\n",
    "customer_features = customer_features.rename(columns={0: 'Cluster 0', \r\n",
    "                                                      1: 'Cluster 1', \r\n",
    "                                                      2: 'Cluster 2', \r\n",
    "                                                      3: 'Cluster 3', \r\n",
    "                                                      4: 'Cluster 4'})\r\n",
    "\r\n",
    "## 추가적으로 성별 및 생년월일과 같은 소비자의 다른 정보를 포함 가능\r\n",
    "## 하지만 지금은 이를 생략"
   ],
   "outputs": [],
   "metadata": {
    "ExecuteTime": {
     "end_time": "2020-04-02T16:40:13.584647Z",
     "start_time": "2020-04-02T16:40:13.560299Z"
    },
    "scrolled": true
   }
  },
  {
   "cell_type": "code",
   "execution_count": 42,
   "source": [
    "### Item Features Matrix\r\n",
    "## 아이템의 다른 카테고리를 특징으로 하여 item feature matrix 생성\r\n",
    "item_category = pd.DataFrame(cust_grouped.groupby(['Material', \r\n",
    "                                              'Prod Cat'])['Qty'].sum().unstack().fillna(0).reset_index().set_index('Material'))\r\n",
    "\r\n",
    "# 아이탬 카테고리 조정\r\n",
    "minmaxscaler = preprocessing.MinMaxScaler()\r\n",
    "item_category_scaled = minmaxscaler.fit_transform(item_category)\r\n",
    "item_category_scaled = pd.DataFrame(item_category_scaled)\r\n",
    "item_category_scaled.index = item_category.index\r\n",
    "item_category_scaled.columns = item_category.columns"
   ],
   "outputs": [],
   "metadata": {
    "ExecuteTime": {
     "end_time": "2020-04-02T16:40:16.796340Z",
     "start_time": "2020-04-02T16:40:16.778484Z"
    }
   }
  },
  {
   "cell_type": "code",
   "execution_count": 43,
   "source": [
    "## TensorRec는 3가지 데이터 요구\r\n",
    "## TensorRec의 경우 Dataframe 형식을 지원하지 않아 행렬 변환 필요\r\n",
    "\r\n",
    "## Scipy 함수를 사용하여 COOMatrices 생성\r\n",
    "## COOMatrices는 0으로 채워진 행렬\r\n",
    "## 이는 프로세스 속도를 높이고 메모리를 절약\r\n",
    "interaction_f = sparse.coo_matrix(interactions_scaled) \r\n",
    "user_f  = sparse.coo_matrix(customer_features) \r\n",
    "item_f  = sparse.coo_matrix(item_category_scaled) "
   ],
   "outputs": [],
   "metadata": {
    "ExecuteTime": {
     "end_time": "2020-04-02T16:40:18.340264Z",
     "start_time": "2020-04-02T16:40:18.323897Z"
    }
   }
  },
  {
   "cell_type": "code",
   "execution_count": 44,
   "source": [
    "### Jesse Steinweg-Woods가 Recommendation metrics에 대하여 자세히 설명\r\n",
    "### 다음 코드는 그의 방법을 참조\r\n",
    "### https://jessesw.com/Rec-System/\r\n",
    "\r\n",
    "def interaction_masking(interactions):\r\n",
    "    '''\r\n",
    "    This function will \"mask\" (a.k.a \"hide\") 20% of original interactions\r\n",
    "    Masked items wil be considered not purchased\r\n",
    "\r\n",
    "    '''\r\n",
    "    mask_size = len(interactions.data)\r\n",
    "    mask = np.random.choice(a=[False, True], size=mask_size, p=[.2, .8])\r\n",
    "    not_mask = np.invert(mask)\r\n",
    "\r\n",
    "    train_interactions = sparse.coo_matrix((interactions.data[mask],\r\n",
    "                                        (interactions.row[mask],\r\n",
    "                                         interactions.col[mask])),\r\n",
    "                                       shape=interactions.shape)\r\n",
    "\r\n",
    "    test_interactions = sparse.coo_matrix((interactions.data[not_mask],\r\n",
    "                                       (interactions.row[not_mask],\r\n",
    "                                        interactions.col[not_mask])),\r\n",
    "                                      shape=interactions.shape)\r\n",
    "\r\n",
    "    return train_interactions, test_interactions"
   ],
   "outputs": [],
   "metadata": {
    "ExecuteTime": {
     "end_time": "2020-04-02T16:40:19.157741Z",
     "start_time": "2020-04-02T16:40:19.153276Z"
    }
   }
  },
  {
   "cell_type": "code",
   "execution_count": 45,
   "source": [
    "mask_size = len(interaction_f.data)\r\n",
    "\r\n",
    "## use numpy.random.choice to generate a random True/False array, where False denotes the \"masked\" interactions (hidden)\r\n",
    "## https://docs.scipy.org/doc/numpy-1.15.0/reference/generated/numpy.random.choice.html\r\n",
    "np.random.choice(a=[False, True], \r\n",
    "                 size=mask_size, \r\n",
    "                 p=[.2, .8])"
   ],
   "outputs": [
    {
     "output_type": "execute_result",
     "data": {
      "text/plain": [
       "array([ True,  True,  True, ...,  True,  True,  True])"
      ]
     },
     "metadata": {},
     "execution_count": 45
    }
   ],
   "metadata": {
    "ExecuteTime": {
     "end_time": "2020-04-02T16:40:22.393118Z",
     "start_time": "2020-04-02T16:40:22.372321Z"
    }
   }
  },
  {
   "cell_type": "code",
   "execution_count": 46,
   "source": [
    "# 훈련 및 테스트를 위하여 interaction features에서 데이터 생성\r\n",
    "train_interactions, test_interactions = interaction_masking(interaction_f)\r\n",
    "\r\n",
    "# 사용자 특징, 아이템 정보 설정\r\n",
    "user_features  = user_f\r\n",
    "item_features = item_f"
   ],
   "outputs": [],
   "metadata": {
    "ExecuteTime": {
     "end_time": "2020-04-02T16:40:24.604498Z",
     "start_time": "2020-04-02T16:40:24.590114Z"
    }
   }
  },
  {
   "cell_type": "code",
   "execution_count": 47,
   "source": [
    "### %%time 을 호출하여 모델 실행 시간 확인\r\n",
    "\r\n",
    "## 모델 파라미터\r\n",
    "epochs = 200 # 최적의 학습 곡선을 얻기 위해 이 변수를 조절해 보세요\r\n",
    "alpha = 0.01 \r\n",
    "n_components =  100 ## 최적의 학습 곡선을 얻기 위해 이 변수를 조절해 보세요\r\n",
    "\r\n",
    "verbose = False\r\n",
    "learning_rate = 0.01\r\n",
    "n_sampled_items = int(item_features.shape[0] * .1)\r\n",
    "biased = True\r\n",
    " \r\n",
    "k_val  = 100\r\n",
    "\r\n",
    "## WMRB 근사 : 확장 가능한 배치 교육 접근 방식에서 순위를 매기는 학습.\r\n",
    "## 상호 작용은 양수 값이 될 수 있지만 크기는 무시. 부정적인 상호 작용은 무시\r\n",
    "## http://ceur-ws.org/Vol-1905/recsys2017_poster3.pdf\r\n",
    "#  Options: BalancedWMRBLossGraph,RMSELossGraph, RMSEDenseLossGraph, SeparationDenseLossGraph\r\n",
    "\r\n",
    "model = TensorRec(n_components = n_components,                 \r\n",
    "                  user_repr_graph = DeepRepresentationGraph(),\r\n",
    "                   item_repr_graph = NormalizedLinearRepresentationGraph(),\r\n",
    "                   loss_graph = WMRBLossGraph(), \r\n",
    "                  biased=biased)\r\n",
    "\r\n",
    "model.fit(train_interactions, \r\n",
    "          user_features, \r\n",
    "          item_features, \r\n",
    "          epochs=epochs, \r\n",
    "          verbose=False, \r\n",
    "          alpha=alpha, \r\n",
    "          n_sampled_items=n_sampled_items,\r\n",
    "          learning_rate=learning_rate)"
   ],
   "outputs": [
    {
     "output_type": "stream",
     "name": "stderr",
     "text": [
      "C:\\Users\\USER\\anaconda3\\envs\\rec\\lib\\site-packages\\tensorflow_core\\python\\framework\\indexed_slices.py:424: UserWarning: Converting sparse IndexedSlices to a dense Tensor of unknown shape. This may consume a large amount of memory.\n",
      "  \"Converting sparse IndexedSlices to a dense Tensor of unknown shape. \"\n",
      "C:\\Users\\USER\\anaconda3\\envs\\rec\\lib\\site-packages\\tensorflow_core\\python\\framework\\indexed_slices.py:424: UserWarning: Converting sparse IndexedSlices to a dense Tensor of unknown shape. This may consume a large amount of memory.\n",
      "  \"Converting sparse IndexedSlices to a dense Tensor of unknown shape. \"\n"
     ]
    }
   ],
   "metadata": {
    "ExecuteTime": {
     "end_time": "2020-04-02T16:40:49.635426Z",
     "start_time": "2020-04-02T16:40:33.059936Z"
    }
   }
  },
  {
   "cell_type": "code",
   "execution_count": 48,
   "source": [
    "# 모든 사용자와 아이템에 대하여 예측 점수 생성\r\n",
    "predictions = model.predict(user_features=user_features,\r\n",
    "                            item_features=item_features)\r\n",
    "\r\n",
    "# 모든 사용자와 아이템에 대하여 예측 랭크 (첫번째, 두번째, 세번재 ...) 생성\r\n",
    "predicted_ranks = model.predict_rank(user_features=user_features,\r\n",
    "                                     item_features=item_features)"
   ],
   "outputs": [],
   "metadata": {}
  },
  {
   "cell_type": "code",
   "execution_count": 62,
   "source": [
    "# 기존의 masked 으론 precision 이 좋게 나올수 없음\r\n",
    "# 하여 기존의 masked 방식에서 변경하여 user 기준의 분할로 변경\r\n",
    "temp = interaction_f.A\r\n",
    "temp[1000:] = 0\r\n",
    "test_interactions = sparse.coo_matrix(temp)\r\n",
    "\r\n",
    "temp = interaction_f.A\r\n",
    "temp[:1000] = 0\r\n",
    "train_interactions = sparse.coo_matrix(temp)"
   ],
   "outputs": [],
   "metadata": {}
  },
  {
   "cell_type": "code",
   "execution_count": 65,
   "source": [
    "### TESTING\r\n",
    "\r\n",
    "# Recall@k 사용 \r\n",
    "# Recall@k: 평균 유저에 대하여, 테스트 항목 중 몇 퍼센트가 예상 순위에서 상위 K 에 존재하는가\r\n",
    "\r\n",
    "# 즉, recall@k : 긍정적으로 평가 한 항목 (구매 한 항목) 중 몇 퍼센트가 예측의 상위 K 개 결과에 포함되었는 가\r\n",
    "\r\n",
    "# in simpler words:\r\n",
    "# Recall@k = (# 추천된 아이템 중 연관된 @k ) / (전체 관련 항목 수)\r\n",
    "# a.k.a\r\n",
    "# Recall@k = (# 추천 아이템 @k ) / (구매 한 총 품목 수)\r\n",
    "\r\n",
    "### reference: \r\n",
    "\r\n",
    "## 추가적으로 400~500 개의 제품이 있는 경우 k ≈ 200-250으로 설정\r\n",
    "## 하지만 지금은 92개의 제품인 관계로 K=80 이 적절\r\n",
    "for K in [10,20,30,40,50,60,70,80,90]:\r\n",
    "    r_at_k_test = recall_at_k(predicted_ranks, test_interactions, k=K)\r\n",
    "    r_at_k_train = recall_at_k(predicted_ranks, train_interactions, k=K)\r\n",
    "\r\n",
    "    p_at_k_test = precision_at_k(predicted_ranks, test_interactions, k=K)\r\n",
    "    p_at_k_train = precision_at_k(predicted_ranks, train_interactions, k=K)\r\n",
    "\r\n",
    "    f_at_k_test = f1_score_at_k(predicted_ranks, test_interactions, k=K)\r\n",
    "    f_at_k_train = f1_score_at_k(predicted_ranks, train_interactions, k=K)\r\n",
    "\r\n",
    "    print(K)\r\n",
    "    print(\"Recall at @k: Train: {:.3f} Test: {:.3f} \".format(r_at_k_train.mean(), r_at_k_test.mean()))\r\n",
    "    print(\"Precision at @k: Train: {:.3f} Test: {:.3f} \".format(p_at_k_train.mean(), p_at_k_test.mean()))\r\n",
    "    print(\"F1 score at @k: Train: {:.3f} Test: {:.3f} \".format(f_at_k_train, f_at_k_test))"
   ],
   "outputs": [
    {
     "output_type": "stream",
     "name": "stdout",
     "text": [
      "10\n",
      "Recall at @k: Train: 0.138 Test: 0.138 \n",
      "Precision at @k: Train: 0.710 Test: 0.709 \n",
      "F1 score at @k: Train: 0.231 Test: 0.230 \n",
      "20\n",
      "Recall at @k: Train: 0.256 Test: 0.256 \n",
      "Precision at @k: Train: 0.661 Test: 0.661 \n",
      "F1 score at @k: Train: 0.370 Test: 0.369 \n",
      "30\n",
      "Recall at @k: Train: 0.394 Test: 0.395 \n",
      "Precision at @k: Train: 0.678 Test: 0.678 \n",
      "F1 score at @k: Train: 0.499 Test: 0.499 \n",
      "40\n",
      "Recall at @k: Train: 0.494 Test: 0.495 \n",
      "Precision at @k: Train: 0.638 Test: 0.638 \n",
      "F1 score at @k: Train: 0.557 Test: 0.558 \n",
      "50\n",
      "Recall at @k: Train: 0.615 Test: 0.615 \n",
      "Precision at @k: Train: 0.634 Test: 0.634 \n",
      "F1 score at @k: Train: 0.624 Test: 0.624 \n",
      "60\n",
      "Recall at @k: Train: 0.716 Test: 0.716 \n",
      "Precision at @k: Train: 0.616 Test: 0.616 \n",
      "F1 score at @k: Train: 0.662 Test: 0.662 \n",
      "70\n",
      "Recall at @k: Train: 0.797 Test: 0.798 \n",
      "Precision at @k: Train: 0.587 Test: 0.587 \n",
      "F1 score at @k: Train: 0.676 Test: 0.677 \n",
      "80\n",
      "Recall at @k: Train: 0.915 Test: 0.916 \n",
      "Precision at @k: Train: 0.591 Test: 0.590 \n",
      "F1 score at @k: Train: 0.718 Test: 0.718 \n",
      "90\n",
      "Recall at @k: Train: 0.979 Test: 0.980 \n",
      "Precision at @k: Train: 0.562 Test: 0.561 \n",
      "F1 score at @k: Train: 0.714 Test: 0.714 \n"
     ]
    }
   ],
   "metadata": {
    "ExecuteTime": {
     "end_time": "2020-04-02T16:40:51.475667Z",
     "start_time": "2020-04-02T16:40:51.439917Z"
    }
   }
  },
  {
   "cell_type": "code",
   "execution_count": 53,
   "source": [
    "# 읽을 수 있는 테이블(dataframe)로 순위 생성\r\n",
    "ranks_df = pd.DataFrame(predicted_ranks)\r\n",
    "ranks_df.columns = item_category_scaled.index\r\n",
    "ranks_df.index = customer_features.index\r\n",
    "ranks_df = ranks_df.T"
   ],
   "outputs": [],
   "metadata": {
    "ExecuteTime": {
     "end_time": "2020-04-02T16:40:53.850802Z",
     "start_time": "2020-04-02T16:40:53.847331Z"
    }
   }
  },
  {
   "cell_type": "code",
   "execution_count": 54,
   "source": [
    "ranks_df.head(5)"
   ],
   "outputs": [
    {
     "output_type": "execute_result",
     "data": {
      "text/plain": [
       "Customer ID         266785  266794  266799  266804  266805  266806  266809  \\\n",
       "Material                                                                     \n",
       "1-1-Flagship store       9       9       9       9       9       9       9   \n",
       "1-1-MBR                  5       5       5       5       5       5       5   \n",
       "1-1-TeleShop             6       6       6       6       6       6       6   \n",
       "1-1-e-Shop               2       2       2       2       2       2       2   \n",
       "1-3-Flagship store       8       8       8       8       8       8       8   \n",
       "\n",
       "Customer ID         266813  266814  266815  ...  275245  275246  275247  \\\n",
       "Material                                    ...                           \n",
       "1-1-Flagship store       9       9       9  ...       9       9       9   \n",
       "1-1-MBR                  5       5       5  ...       5       5       5   \n",
       "1-1-TeleShop             6       6       6  ...       6       6       6   \n",
       "1-1-e-Shop               2       2       2  ...       2       2       2   \n",
       "1-3-Flagship store       8       8       8  ...       8       8       8   \n",
       "\n",
       "Customer ID         275249  275250  275252  275255  275257  275261  275265  \n",
       "Material                                                                    \n",
       "1-1-Flagship store       9       9       9       9       9       9       9  \n",
       "1-1-MBR                  5       5       5       5       5       5       5  \n",
       "1-1-TeleShop             6       6       6       6       6       6       6  \n",
       "1-1-e-Shop               2       2       2       2       2       2       2  \n",
       "1-3-Flagship store       8       8       8       8       8       8       8  \n",
       "\n",
       "[5 rows x 3899 columns]"
      ],
      "text/html": [
       "<div>\n",
       "<style scoped>\n",
       "    .dataframe tbody tr th:only-of-type {\n",
       "        vertical-align: middle;\n",
       "    }\n",
       "\n",
       "    .dataframe tbody tr th {\n",
       "        vertical-align: top;\n",
       "    }\n",
       "\n",
       "    .dataframe thead th {\n",
       "        text-align: right;\n",
       "    }\n",
       "</style>\n",
       "<table border=\"1\" class=\"dataframe\">\n",
       "  <thead>\n",
       "    <tr style=\"text-align: right;\">\n",
       "      <th>Customer ID</th>\n",
       "      <th>266785</th>\n",
       "      <th>266794</th>\n",
       "      <th>266799</th>\n",
       "      <th>266804</th>\n",
       "      <th>266805</th>\n",
       "      <th>266806</th>\n",
       "      <th>266809</th>\n",
       "      <th>266813</th>\n",
       "      <th>266814</th>\n",
       "      <th>266815</th>\n",
       "      <th>...</th>\n",
       "      <th>275245</th>\n",
       "      <th>275246</th>\n",
       "      <th>275247</th>\n",
       "      <th>275249</th>\n",
       "      <th>275250</th>\n",
       "      <th>275252</th>\n",
       "      <th>275255</th>\n",
       "      <th>275257</th>\n",
       "      <th>275261</th>\n",
       "      <th>275265</th>\n",
       "    </tr>\n",
       "    <tr>\n",
       "      <th>Material</th>\n",
       "      <th></th>\n",
       "      <th></th>\n",
       "      <th></th>\n",
       "      <th></th>\n",
       "      <th></th>\n",
       "      <th></th>\n",
       "      <th></th>\n",
       "      <th></th>\n",
       "      <th></th>\n",
       "      <th></th>\n",
       "      <th></th>\n",
       "      <th></th>\n",
       "      <th></th>\n",
       "      <th></th>\n",
       "      <th></th>\n",
       "      <th></th>\n",
       "      <th></th>\n",
       "      <th></th>\n",
       "      <th></th>\n",
       "      <th></th>\n",
       "      <th></th>\n",
       "    </tr>\n",
       "  </thead>\n",
       "  <tbody>\n",
       "    <tr>\n",
       "      <th>1-1-Flagship store</th>\n",
       "      <td>9</td>\n",
       "      <td>9</td>\n",
       "      <td>9</td>\n",
       "      <td>9</td>\n",
       "      <td>9</td>\n",
       "      <td>9</td>\n",
       "      <td>9</td>\n",
       "      <td>9</td>\n",
       "      <td>9</td>\n",
       "      <td>9</td>\n",
       "      <td>...</td>\n",
       "      <td>9</td>\n",
       "      <td>9</td>\n",
       "      <td>9</td>\n",
       "      <td>9</td>\n",
       "      <td>9</td>\n",
       "      <td>9</td>\n",
       "      <td>9</td>\n",
       "      <td>9</td>\n",
       "      <td>9</td>\n",
       "      <td>9</td>\n",
       "    </tr>\n",
       "    <tr>\n",
       "      <th>1-1-MBR</th>\n",
       "      <td>5</td>\n",
       "      <td>5</td>\n",
       "      <td>5</td>\n",
       "      <td>5</td>\n",
       "      <td>5</td>\n",
       "      <td>5</td>\n",
       "      <td>5</td>\n",
       "      <td>5</td>\n",
       "      <td>5</td>\n",
       "      <td>5</td>\n",
       "      <td>...</td>\n",
       "      <td>5</td>\n",
       "      <td>5</td>\n",
       "      <td>5</td>\n",
       "      <td>5</td>\n",
       "      <td>5</td>\n",
       "      <td>5</td>\n",
       "      <td>5</td>\n",
       "      <td>5</td>\n",
       "      <td>5</td>\n",
       "      <td>5</td>\n",
       "    </tr>\n",
       "    <tr>\n",
       "      <th>1-1-TeleShop</th>\n",
       "      <td>6</td>\n",
       "      <td>6</td>\n",
       "      <td>6</td>\n",
       "      <td>6</td>\n",
       "      <td>6</td>\n",
       "      <td>6</td>\n",
       "      <td>6</td>\n",
       "      <td>6</td>\n",
       "      <td>6</td>\n",
       "      <td>6</td>\n",
       "      <td>...</td>\n",
       "      <td>6</td>\n",
       "      <td>6</td>\n",
       "      <td>6</td>\n",
       "      <td>6</td>\n",
       "      <td>6</td>\n",
       "      <td>6</td>\n",
       "      <td>6</td>\n",
       "      <td>6</td>\n",
       "      <td>6</td>\n",
       "      <td>6</td>\n",
       "    </tr>\n",
       "    <tr>\n",
       "      <th>1-1-e-Shop</th>\n",
       "      <td>2</td>\n",
       "      <td>2</td>\n",
       "      <td>2</td>\n",
       "      <td>2</td>\n",
       "      <td>2</td>\n",
       "      <td>2</td>\n",
       "      <td>2</td>\n",
       "      <td>2</td>\n",
       "      <td>2</td>\n",
       "      <td>2</td>\n",
       "      <td>...</td>\n",
       "      <td>2</td>\n",
       "      <td>2</td>\n",
       "      <td>2</td>\n",
       "      <td>2</td>\n",
       "      <td>2</td>\n",
       "      <td>2</td>\n",
       "      <td>2</td>\n",
       "      <td>2</td>\n",
       "      <td>2</td>\n",
       "      <td>2</td>\n",
       "    </tr>\n",
       "    <tr>\n",
       "      <th>1-3-Flagship store</th>\n",
       "      <td>8</td>\n",
       "      <td>8</td>\n",
       "      <td>8</td>\n",
       "      <td>8</td>\n",
       "      <td>8</td>\n",
       "      <td>8</td>\n",
       "      <td>8</td>\n",
       "      <td>8</td>\n",
       "      <td>8</td>\n",
       "      <td>8</td>\n",
       "      <td>...</td>\n",
       "      <td>8</td>\n",
       "      <td>8</td>\n",
       "      <td>8</td>\n",
       "      <td>8</td>\n",
       "      <td>8</td>\n",
       "      <td>8</td>\n",
       "      <td>8</td>\n",
       "      <td>8</td>\n",
       "      <td>8</td>\n",
       "      <td>8</td>\n",
       "    </tr>\n",
       "  </tbody>\n",
       "</table>\n",
       "<p>5 rows × 3899 columns</p>\n",
       "</div>"
      ]
     },
     "metadata": {},
     "execution_count": 54
    }
   ],
   "metadata": {
    "ExecuteTime": {
     "end_time": "2020-04-02T16:40:54.438995Z",
     "start_time": "2020-04-02T16:40:54.409697Z"
    }
   }
  }
 ],
 "metadata": {
  "kernelspec": {
   "name": "python3",
   "display_name": "Python 3.6.13 64-bit ('rec': conda)"
  },
  "language_info": {
   "codemirror_mode": {
    "name": "ipython",
    "version": 3
   },
   "file_extension": ".py",
   "mimetype": "text/x-python",
   "name": "python",
   "nbconvert_exporter": "python",
   "pygments_lexer": "ipython3",
   "version": "3.6.13"
  },
  "metadata": {
   "interpreter": {
    "hash": "ee48d3fe051b4fce4410e9317bfb6dab23149373939151b24a94af72eadc20a5"
   }
  },
  "interpreter": {
   "hash": "88cb47868235bf1f47294e73f55021d93805b69e781c468b8046c2e98b8ef955"
  }
 },
 "nbformat": 4,
 "nbformat_minor": 2
}